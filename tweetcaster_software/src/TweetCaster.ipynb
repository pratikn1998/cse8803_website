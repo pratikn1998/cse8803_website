{
  "nbformat": 4,
  "nbformat_minor": 0,
  "metadata": {
    "colab": {
      "name": "TweetCaster",
      "provenance": [],
      "collapsed_sections": [],
      "machine_shape": "hm"
    },
    "kernelspec": {
      "name": "python3",
      "display_name": "Python 3"
    },
    "language_info": {
      "name": "python"
    },
    "accelerator": "GPU",
    "widgets": {
      "application/vnd.jupyter.widget-state+json": {
        "7e5e7f59220745b4a7ad08cb53eb6e41": {
          "model_module": "@jupyter-widgets/controls",
          "model_name": "HBoxModel",
          "model_module_version": "1.5.0",
          "state": {
            "_view_name": "HBoxView",
            "_dom_classes": [],
            "_model_name": "HBoxModel",
            "_view_module": "@jupyter-widgets/controls",
            "_model_module_version": "1.5.0",
            "_view_count": null,
            "_view_module_version": "1.5.0",
            "box_style": "",
            "layout": "IPY_MODEL_2a38cc5519154b7b9d161239e646df94",
            "_model_module": "@jupyter-widgets/controls",
            "children": [
              "IPY_MODEL_b57e5f6a39cd476296c1404444abae8b",
              "IPY_MODEL_43ec8e27f3f143b2a5b25d3d403cc012",
              "IPY_MODEL_5bb424a75eca49c3984de1adbd936c90"
            ]
          }
        },
        "2a38cc5519154b7b9d161239e646df94": {
          "model_module": "@jupyter-widgets/base",
          "model_name": "LayoutModel",
          "model_module_version": "1.2.0",
          "state": {
            "_view_name": "LayoutView",
            "grid_template_rows": null,
            "right": null,
            "justify_content": null,
            "_view_module": "@jupyter-widgets/base",
            "overflow": null,
            "_model_module_version": "1.2.0",
            "_view_count": null,
            "flex_flow": null,
            "width": null,
            "min_width": null,
            "border": null,
            "align_items": null,
            "bottom": null,
            "_model_module": "@jupyter-widgets/base",
            "top": null,
            "grid_column": null,
            "overflow_y": null,
            "overflow_x": null,
            "grid_auto_flow": null,
            "grid_area": null,
            "grid_template_columns": null,
            "flex": null,
            "_model_name": "LayoutModel",
            "justify_items": null,
            "grid_row": null,
            "max_height": null,
            "align_content": null,
            "visibility": null,
            "align_self": null,
            "height": null,
            "min_height": null,
            "padding": null,
            "grid_auto_rows": null,
            "grid_gap": null,
            "max_width": null,
            "order": null,
            "_view_module_version": "1.2.0",
            "grid_template_areas": null,
            "object_position": null,
            "object_fit": null,
            "grid_auto_columns": null,
            "margin": null,
            "display": null,
            "left": null
          }
        },
        "b57e5f6a39cd476296c1404444abae8b": {
          "model_module": "@jupyter-widgets/controls",
          "model_name": "HTMLModel",
          "model_module_version": "1.5.0",
          "state": {
            "_view_name": "HTMLView",
            "style": "IPY_MODEL_40573c5a051b4f9f967777978c3693e0",
            "_dom_classes": [],
            "description": "",
            "_model_name": "HTMLModel",
            "placeholder": "​",
            "_view_module": "@jupyter-widgets/controls",
            "_model_module_version": "1.5.0",
            "value": "Downloading: 100%",
            "_view_count": null,
            "_view_module_version": "1.5.0",
            "description_tooltip": null,
            "_model_module": "@jupyter-widgets/controls",
            "layout": "IPY_MODEL_4c9972fd403d438dbe83a85b61b76565"
          }
        },
        "43ec8e27f3f143b2a5b25d3d403cc012": {
          "model_module": "@jupyter-widgets/controls",
          "model_name": "FloatProgressModel",
          "model_module_version": "1.5.0",
          "state": {
            "_view_name": "ProgressView",
            "style": "IPY_MODEL_6dfe3e29325e4c3c97360d12f09b959b",
            "_dom_classes": [],
            "description": "",
            "_model_name": "FloatProgressModel",
            "bar_style": "success",
            "max": 558,
            "_view_module": "@jupyter-widgets/controls",
            "_model_module_version": "1.5.0",
            "value": 558,
            "_view_count": null,
            "_view_module_version": "1.5.0",
            "orientation": "horizontal",
            "min": 0,
            "description_tooltip": null,
            "_model_module": "@jupyter-widgets/controls",
            "layout": "IPY_MODEL_399d7dca990e42188bc27e06197af6cf"
          }
        },
        "5bb424a75eca49c3984de1adbd936c90": {
          "model_module": "@jupyter-widgets/controls",
          "model_name": "HTMLModel",
          "model_module_version": "1.5.0",
          "state": {
            "_view_name": "HTMLView",
            "style": "IPY_MODEL_c83776e76fde4e168188daf40962664c",
            "_dom_classes": [],
            "description": "",
            "_model_name": "HTMLModel",
            "placeholder": "​",
            "_view_module": "@jupyter-widgets/controls",
            "_model_module_version": "1.5.0",
            "value": " 558/558 [00:00&lt;00:00, 12.8kB/s]",
            "_view_count": null,
            "_view_module_version": "1.5.0",
            "description_tooltip": null,
            "_model_module": "@jupyter-widgets/controls",
            "layout": "IPY_MODEL_44fc7c1a488645bb881e86f501c13d52"
          }
        },
        "40573c5a051b4f9f967777978c3693e0": {
          "model_module": "@jupyter-widgets/controls",
          "model_name": "DescriptionStyleModel",
          "model_module_version": "1.5.0",
          "state": {
            "_view_name": "StyleView",
            "_model_name": "DescriptionStyleModel",
            "description_width": "",
            "_view_module": "@jupyter-widgets/base",
            "_model_module_version": "1.5.0",
            "_view_count": null,
            "_view_module_version": "1.2.0",
            "_model_module": "@jupyter-widgets/controls"
          }
        },
        "4c9972fd403d438dbe83a85b61b76565": {
          "model_module": "@jupyter-widgets/base",
          "model_name": "LayoutModel",
          "model_module_version": "1.2.0",
          "state": {
            "_view_name": "LayoutView",
            "grid_template_rows": null,
            "right": null,
            "justify_content": null,
            "_view_module": "@jupyter-widgets/base",
            "overflow": null,
            "_model_module_version": "1.2.0",
            "_view_count": null,
            "flex_flow": null,
            "width": null,
            "min_width": null,
            "border": null,
            "align_items": null,
            "bottom": null,
            "_model_module": "@jupyter-widgets/base",
            "top": null,
            "grid_column": null,
            "overflow_y": null,
            "overflow_x": null,
            "grid_auto_flow": null,
            "grid_area": null,
            "grid_template_columns": null,
            "flex": null,
            "_model_name": "LayoutModel",
            "justify_items": null,
            "grid_row": null,
            "max_height": null,
            "align_content": null,
            "visibility": null,
            "align_self": null,
            "height": null,
            "min_height": null,
            "padding": null,
            "grid_auto_rows": null,
            "grid_gap": null,
            "max_width": null,
            "order": null,
            "_view_module_version": "1.2.0",
            "grid_template_areas": null,
            "object_position": null,
            "object_fit": null,
            "grid_auto_columns": null,
            "margin": null,
            "display": null,
            "left": null
          }
        },
        "6dfe3e29325e4c3c97360d12f09b959b": {
          "model_module": "@jupyter-widgets/controls",
          "model_name": "ProgressStyleModel",
          "model_module_version": "1.5.0",
          "state": {
            "_view_name": "StyleView",
            "_model_name": "ProgressStyleModel",
            "description_width": "",
            "_view_module": "@jupyter-widgets/base",
            "_model_module_version": "1.5.0",
            "_view_count": null,
            "_view_module_version": "1.2.0",
            "bar_color": null,
            "_model_module": "@jupyter-widgets/controls"
          }
        },
        "399d7dca990e42188bc27e06197af6cf": {
          "model_module": "@jupyter-widgets/base",
          "model_name": "LayoutModel",
          "model_module_version": "1.2.0",
          "state": {
            "_view_name": "LayoutView",
            "grid_template_rows": null,
            "right": null,
            "justify_content": null,
            "_view_module": "@jupyter-widgets/base",
            "overflow": null,
            "_model_module_version": "1.2.0",
            "_view_count": null,
            "flex_flow": null,
            "width": null,
            "min_width": null,
            "border": null,
            "align_items": null,
            "bottom": null,
            "_model_module": "@jupyter-widgets/base",
            "top": null,
            "grid_column": null,
            "overflow_y": null,
            "overflow_x": null,
            "grid_auto_flow": null,
            "grid_area": null,
            "grid_template_columns": null,
            "flex": null,
            "_model_name": "LayoutModel",
            "justify_items": null,
            "grid_row": null,
            "max_height": null,
            "align_content": null,
            "visibility": null,
            "align_self": null,
            "height": null,
            "min_height": null,
            "padding": null,
            "grid_auto_rows": null,
            "grid_gap": null,
            "max_width": null,
            "order": null,
            "_view_module_version": "1.2.0",
            "grid_template_areas": null,
            "object_position": null,
            "object_fit": null,
            "grid_auto_columns": null,
            "margin": null,
            "display": null,
            "left": null
          }
        },
        "c83776e76fde4e168188daf40962664c": {
          "model_module": "@jupyter-widgets/controls",
          "model_name": "DescriptionStyleModel",
          "model_module_version": "1.5.0",
          "state": {
            "_view_name": "StyleView",
            "_model_name": "DescriptionStyleModel",
            "description_width": "",
            "_view_module": "@jupyter-widgets/base",
            "_model_module_version": "1.5.0",
            "_view_count": null,
            "_view_module_version": "1.2.0",
            "_model_module": "@jupyter-widgets/controls"
          }
        },
        "44fc7c1a488645bb881e86f501c13d52": {
          "model_module": "@jupyter-widgets/base",
          "model_name": "LayoutModel",
          "model_module_version": "1.2.0",
          "state": {
            "_view_name": "LayoutView",
            "grid_template_rows": null,
            "right": null,
            "justify_content": null,
            "_view_module": "@jupyter-widgets/base",
            "overflow": null,
            "_model_module_version": "1.2.0",
            "_view_count": null,
            "flex_flow": null,
            "width": null,
            "min_width": null,
            "border": null,
            "align_items": null,
            "bottom": null,
            "_model_module": "@jupyter-widgets/base",
            "top": null,
            "grid_column": null,
            "overflow_y": null,
            "overflow_x": null,
            "grid_auto_flow": null,
            "grid_area": null,
            "grid_template_columns": null,
            "flex": null,
            "_model_name": "LayoutModel",
            "justify_items": null,
            "grid_row": null,
            "max_height": null,
            "align_content": null,
            "visibility": null,
            "align_self": null,
            "height": null,
            "min_height": null,
            "padding": null,
            "grid_auto_rows": null,
            "grid_gap": null,
            "max_width": null,
            "order": null,
            "_view_module_version": "1.2.0",
            "grid_template_areas": null,
            "object_position": null,
            "object_fit": null,
            "grid_auto_columns": null,
            "margin": null,
            "display": null,
            "left": null
          }
        },
        "169f9002d9914c4ab31eee3db7d86cce": {
          "model_module": "@jupyter-widgets/controls",
          "model_name": "HBoxModel",
          "model_module_version": "1.5.0",
          "state": {
            "_view_name": "HBoxView",
            "_dom_classes": [],
            "_model_name": "HBoxModel",
            "_view_module": "@jupyter-widgets/controls",
            "_model_module_version": "1.5.0",
            "_view_count": null,
            "_view_module_version": "1.5.0",
            "box_style": "",
            "layout": "IPY_MODEL_b26be8bd1aff47a9a1b19990ebc9bb26",
            "_model_module": "@jupyter-widgets/controls",
            "children": [
              "IPY_MODEL_bb425600d7ed413695e4e12127bdb40f",
              "IPY_MODEL_686c0dc434b74693953c3b0809b66a72",
              "IPY_MODEL_66a13665161e42c3abce709bb6ec2ded"
            ]
          }
        },
        "b26be8bd1aff47a9a1b19990ebc9bb26": {
          "model_module": "@jupyter-widgets/base",
          "model_name": "LayoutModel",
          "model_module_version": "1.2.0",
          "state": {
            "_view_name": "LayoutView",
            "grid_template_rows": null,
            "right": null,
            "justify_content": null,
            "_view_module": "@jupyter-widgets/base",
            "overflow": null,
            "_model_module_version": "1.2.0",
            "_view_count": null,
            "flex_flow": null,
            "width": null,
            "min_width": null,
            "border": null,
            "align_items": null,
            "bottom": null,
            "_model_module": "@jupyter-widgets/base",
            "top": null,
            "grid_column": null,
            "overflow_y": null,
            "overflow_x": null,
            "grid_auto_flow": null,
            "grid_area": null,
            "grid_template_columns": null,
            "flex": null,
            "_model_name": "LayoutModel",
            "justify_items": null,
            "grid_row": null,
            "max_height": null,
            "align_content": null,
            "visibility": null,
            "align_self": null,
            "height": null,
            "min_height": null,
            "padding": null,
            "grid_auto_rows": null,
            "grid_gap": null,
            "max_width": null,
            "order": null,
            "_view_module_version": "1.2.0",
            "grid_template_areas": null,
            "object_position": null,
            "object_fit": null,
            "grid_auto_columns": null,
            "margin": null,
            "display": null,
            "left": null
          }
        },
        "bb425600d7ed413695e4e12127bdb40f": {
          "model_module": "@jupyter-widgets/controls",
          "model_name": "HTMLModel",
          "model_module_version": "1.5.0",
          "state": {
            "_view_name": "HTMLView",
            "style": "IPY_MODEL_2d9f78f0a34147c28a614d6e9fa200c1",
            "_dom_classes": [],
            "description": "",
            "_model_name": "HTMLModel",
            "placeholder": "​",
            "_view_module": "@jupyter-widgets/controls",
            "_model_module_version": "1.5.0",
            "value": "Downloading: 100%",
            "_view_count": null,
            "_view_module_version": "1.5.0",
            "description_tooltip": null,
            "_model_module": "@jupyter-widgets/controls",
            "layout": "IPY_MODEL_dd88cf1c8bad44d9927af1d4be20832e"
          }
        },
        "686c0dc434b74693953c3b0809b66a72": {
          "model_module": "@jupyter-widgets/controls",
          "model_name": "FloatProgressModel",
          "model_module_version": "1.5.0",
          "state": {
            "_view_name": "ProgressView",
            "style": "IPY_MODEL_79096090671040069f48a6f81c80e529",
            "_dom_classes": [],
            "description": "",
            "_model_name": "FloatProgressModel",
            "bar_style": "success",
            "max": 843438,
            "_view_module": "@jupyter-widgets/controls",
            "_model_module_version": "1.5.0",
            "value": 843438,
            "_view_count": null,
            "_view_module_version": "1.5.0",
            "orientation": "horizontal",
            "min": 0,
            "description_tooltip": null,
            "_model_module": "@jupyter-widgets/controls",
            "layout": "IPY_MODEL_d0329bb6337e43eeaf4aad0ef6f36e70"
          }
        },
        "66a13665161e42c3abce709bb6ec2ded": {
          "model_module": "@jupyter-widgets/controls",
          "model_name": "HTMLModel",
          "model_module_version": "1.5.0",
          "state": {
            "_view_name": "HTMLView",
            "style": "IPY_MODEL_9e71352678814143a83e2ba0852e8e86",
            "_dom_classes": [],
            "description": "",
            "_model_name": "HTMLModel",
            "placeholder": "​",
            "_view_module": "@jupyter-widgets/controls",
            "_model_module_version": "1.5.0",
            "value": " 824k/824k [00:00&lt;00:00, 1.02MB/s]",
            "_view_count": null,
            "_view_module_version": "1.5.0",
            "description_tooltip": null,
            "_model_module": "@jupyter-widgets/controls",
            "layout": "IPY_MODEL_2adc0d0f66654381a88646a28a175bff"
          }
        },
        "2d9f78f0a34147c28a614d6e9fa200c1": {
          "model_module": "@jupyter-widgets/controls",
          "model_name": "DescriptionStyleModel",
          "model_module_version": "1.5.0",
          "state": {
            "_view_name": "StyleView",
            "_model_name": "DescriptionStyleModel",
            "description_width": "",
            "_view_module": "@jupyter-widgets/base",
            "_model_module_version": "1.5.0",
            "_view_count": null,
            "_view_module_version": "1.2.0",
            "_model_module": "@jupyter-widgets/controls"
          }
        },
        "dd88cf1c8bad44d9927af1d4be20832e": {
          "model_module": "@jupyter-widgets/base",
          "model_name": "LayoutModel",
          "model_module_version": "1.2.0",
          "state": {
            "_view_name": "LayoutView",
            "grid_template_rows": null,
            "right": null,
            "justify_content": null,
            "_view_module": "@jupyter-widgets/base",
            "overflow": null,
            "_model_module_version": "1.2.0",
            "_view_count": null,
            "flex_flow": null,
            "width": null,
            "min_width": null,
            "border": null,
            "align_items": null,
            "bottom": null,
            "_model_module": "@jupyter-widgets/base",
            "top": null,
            "grid_column": null,
            "overflow_y": null,
            "overflow_x": null,
            "grid_auto_flow": null,
            "grid_area": null,
            "grid_template_columns": null,
            "flex": null,
            "_model_name": "LayoutModel",
            "justify_items": null,
            "grid_row": null,
            "max_height": null,
            "align_content": null,
            "visibility": null,
            "align_self": null,
            "height": null,
            "min_height": null,
            "padding": null,
            "grid_auto_rows": null,
            "grid_gap": null,
            "max_width": null,
            "order": null,
            "_view_module_version": "1.2.0",
            "grid_template_areas": null,
            "object_position": null,
            "object_fit": null,
            "grid_auto_columns": null,
            "margin": null,
            "display": null,
            "left": null
          }
        },
        "79096090671040069f48a6f81c80e529": {
          "model_module": "@jupyter-widgets/controls",
          "model_name": "ProgressStyleModel",
          "model_module_version": "1.5.0",
          "state": {
            "_view_name": "StyleView",
            "_model_name": "ProgressStyleModel",
            "description_width": "",
            "_view_module": "@jupyter-widgets/base",
            "_model_module_version": "1.5.0",
            "_view_count": null,
            "_view_module_version": "1.2.0",
            "bar_color": null,
            "_model_module": "@jupyter-widgets/controls"
          }
        },
        "d0329bb6337e43eeaf4aad0ef6f36e70": {
          "model_module": "@jupyter-widgets/base",
          "model_name": "LayoutModel",
          "model_module_version": "1.2.0",
          "state": {
            "_view_name": "LayoutView",
            "grid_template_rows": null,
            "right": null,
            "justify_content": null,
            "_view_module": "@jupyter-widgets/base",
            "overflow": null,
            "_model_module_version": "1.2.0",
            "_view_count": null,
            "flex_flow": null,
            "width": null,
            "min_width": null,
            "border": null,
            "align_items": null,
            "bottom": null,
            "_model_module": "@jupyter-widgets/base",
            "top": null,
            "grid_column": null,
            "overflow_y": null,
            "overflow_x": null,
            "grid_auto_flow": null,
            "grid_area": null,
            "grid_template_columns": null,
            "flex": null,
            "_model_name": "LayoutModel",
            "justify_items": null,
            "grid_row": null,
            "max_height": null,
            "align_content": null,
            "visibility": null,
            "align_self": null,
            "height": null,
            "min_height": null,
            "padding": null,
            "grid_auto_rows": null,
            "grid_gap": null,
            "max_width": null,
            "order": null,
            "_view_module_version": "1.2.0",
            "grid_template_areas": null,
            "object_position": null,
            "object_fit": null,
            "grid_auto_columns": null,
            "margin": null,
            "display": null,
            "left": null
          }
        },
        "9e71352678814143a83e2ba0852e8e86": {
          "model_module": "@jupyter-widgets/controls",
          "model_name": "DescriptionStyleModel",
          "model_module_version": "1.5.0",
          "state": {
            "_view_name": "StyleView",
            "_model_name": "DescriptionStyleModel",
            "description_width": "",
            "_view_module": "@jupyter-widgets/base",
            "_model_module_version": "1.5.0",
            "_view_count": null,
            "_view_module_version": "1.2.0",
            "_model_module": "@jupyter-widgets/controls"
          }
        },
        "2adc0d0f66654381a88646a28a175bff": {
          "model_module": "@jupyter-widgets/base",
          "model_name": "LayoutModel",
          "model_module_version": "1.2.0",
          "state": {
            "_view_name": "LayoutView",
            "grid_template_rows": null,
            "right": null,
            "justify_content": null,
            "_view_module": "@jupyter-widgets/base",
            "overflow": null,
            "_model_module_version": "1.2.0",
            "_view_count": null,
            "flex_flow": null,
            "width": null,
            "min_width": null,
            "border": null,
            "align_items": null,
            "bottom": null,
            "_model_module": "@jupyter-widgets/base",
            "top": null,
            "grid_column": null,
            "overflow_y": null,
            "overflow_x": null,
            "grid_auto_flow": null,
            "grid_area": null,
            "grid_template_columns": null,
            "flex": null,
            "_model_name": "LayoutModel",
            "justify_items": null,
            "grid_row": null,
            "max_height": null,
            "align_content": null,
            "visibility": null,
            "align_self": null,
            "height": null,
            "min_height": null,
            "padding": null,
            "grid_auto_rows": null,
            "grid_gap": null,
            "max_width": null,
            "order": null,
            "_view_module_version": "1.2.0",
            "grid_template_areas": null,
            "object_position": null,
            "object_fit": null,
            "grid_auto_columns": null,
            "margin": null,
            "display": null,
            "left": null
          }
        },
        "6a808de84540444997d780536402fa3b": {
          "model_module": "@jupyter-widgets/controls",
          "model_name": "HBoxModel",
          "model_module_version": "1.5.0",
          "state": {
            "_view_name": "HBoxView",
            "_dom_classes": [],
            "_model_name": "HBoxModel",
            "_view_module": "@jupyter-widgets/controls",
            "_model_module_version": "1.5.0",
            "_view_count": null,
            "_view_module_version": "1.5.0",
            "box_style": "",
            "layout": "IPY_MODEL_3048ac21536b44e6a79e31fc322073f0",
            "_model_module": "@jupyter-widgets/controls",
            "children": [
              "IPY_MODEL_8397813549c44122ba724d7176feeda0",
              "IPY_MODEL_50ad9c4b4420478c9d4eab4a1c74478a",
              "IPY_MODEL_099a3d5711504c03b92cda10fe1995a4"
            ]
          }
        },
        "3048ac21536b44e6a79e31fc322073f0": {
          "model_module": "@jupyter-widgets/base",
          "model_name": "LayoutModel",
          "model_module_version": "1.2.0",
          "state": {
            "_view_name": "LayoutView",
            "grid_template_rows": null,
            "right": null,
            "justify_content": null,
            "_view_module": "@jupyter-widgets/base",
            "overflow": null,
            "_model_module_version": "1.2.0",
            "_view_count": null,
            "flex_flow": null,
            "width": null,
            "min_width": null,
            "border": null,
            "align_items": null,
            "bottom": null,
            "_model_module": "@jupyter-widgets/base",
            "top": null,
            "grid_column": null,
            "overflow_y": null,
            "overflow_x": null,
            "grid_auto_flow": null,
            "grid_area": null,
            "grid_template_columns": null,
            "flex": null,
            "_model_name": "LayoutModel",
            "justify_items": null,
            "grid_row": null,
            "max_height": null,
            "align_content": null,
            "visibility": null,
            "align_self": null,
            "height": null,
            "min_height": null,
            "padding": null,
            "grid_auto_rows": null,
            "grid_gap": null,
            "max_width": null,
            "order": null,
            "_view_module_version": "1.2.0",
            "grid_template_areas": null,
            "object_position": null,
            "object_fit": null,
            "grid_auto_columns": null,
            "margin": null,
            "display": null,
            "left": null
          }
        },
        "8397813549c44122ba724d7176feeda0": {
          "model_module": "@jupyter-widgets/controls",
          "model_name": "HTMLModel",
          "model_module_version": "1.5.0",
          "state": {
            "_view_name": "HTMLView",
            "style": "IPY_MODEL_e3da75c7e7854301b7fe089ed31f6bdb",
            "_dom_classes": [],
            "description": "",
            "_model_name": "HTMLModel",
            "placeholder": "​",
            "_view_module": "@jupyter-widgets/controls",
            "_model_module_version": "1.5.0",
            "value": "Downloading: 100%",
            "_view_count": null,
            "_view_module_version": "1.5.0",
            "description_tooltip": null,
            "_model_module": "@jupyter-widgets/controls",
            "layout": "IPY_MODEL_e510ed51310043b08425e466db907bf0"
          }
        },
        "50ad9c4b4420478c9d4eab4a1c74478a": {
          "model_module": "@jupyter-widgets/controls",
          "model_name": "FloatProgressModel",
          "model_module_version": "1.5.0",
          "state": {
            "_view_name": "ProgressView",
            "style": "IPY_MODEL_740cc07c3d6246a6b95acda47625a429",
            "_dom_classes": [],
            "description": "",
            "_model_name": "FloatProgressModel",
            "bar_style": "success",
            "max": 1078931,
            "_view_module": "@jupyter-widgets/controls",
            "_model_module_version": "1.5.0",
            "value": 1078931,
            "_view_count": null,
            "_view_module_version": "1.5.0",
            "orientation": "horizontal",
            "min": 0,
            "description_tooltip": null,
            "_model_module": "@jupyter-widgets/controls",
            "layout": "IPY_MODEL_22a95690145e4188b10bcdf5349c1a7b"
          }
        },
        "099a3d5711504c03b92cda10fe1995a4": {
          "model_module": "@jupyter-widgets/controls",
          "model_name": "HTMLModel",
          "model_module_version": "1.5.0",
          "state": {
            "_view_name": "HTMLView",
            "style": "IPY_MODEL_204eb0f89c814903b185e2c40a3f5101",
            "_dom_classes": [],
            "description": "",
            "_model_name": "HTMLModel",
            "placeholder": "​",
            "_view_module": "@jupyter-widgets/controls",
            "_model_module_version": "1.5.0",
            "value": " 1.03M/1.03M [00:00&lt;00:00, 5.77MB/s]",
            "_view_count": null,
            "_view_module_version": "1.5.0",
            "description_tooltip": null,
            "_model_module": "@jupyter-widgets/controls",
            "layout": "IPY_MODEL_d4ce8db0d7e94625a6e75a720d410650"
          }
        },
        "e3da75c7e7854301b7fe089ed31f6bdb": {
          "model_module": "@jupyter-widgets/controls",
          "model_name": "DescriptionStyleModel",
          "model_module_version": "1.5.0",
          "state": {
            "_view_name": "StyleView",
            "_model_name": "DescriptionStyleModel",
            "description_width": "",
            "_view_module": "@jupyter-widgets/base",
            "_model_module_version": "1.5.0",
            "_view_count": null,
            "_view_module_version": "1.2.0",
            "_model_module": "@jupyter-widgets/controls"
          }
        },
        "e510ed51310043b08425e466db907bf0": {
          "model_module": "@jupyter-widgets/base",
          "model_name": "LayoutModel",
          "model_module_version": "1.2.0",
          "state": {
            "_view_name": "LayoutView",
            "grid_template_rows": null,
            "right": null,
            "justify_content": null,
            "_view_module": "@jupyter-widgets/base",
            "overflow": null,
            "_model_module_version": "1.2.0",
            "_view_count": null,
            "flex_flow": null,
            "width": null,
            "min_width": null,
            "border": null,
            "align_items": null,
            "bottom": null,
            "_model_module": "@jupyter-widgets/base",
            "top": null,
            "grid_column": null,
            "overflow_y": null,
            "overflow_x": null,
            "grid_auto_flow": null,
            "grid_area": null,
            "grid_template_columns": null,
            "flex": null,
            "_model_name": "LayoutModel",
            "justify_items": null,
            "grid_row": null,
            "max_height": null,
            "align_content": null,
            "visibility": null,
            "align_self": null,
            "height": null,
            "min_height": null,
            "padding": null,
            "grid_auto_rows": null,
            "grid_gap": null,
            "max_width": null,
            "order": null,
            "_view_module_version": "1.2.0",
            "grid_template_areas": null,
            "object_position": null,
            "object_fit": null,
            "grid_auto_columns": null,
            "margin": null,
            "display": null,
            "left": null
          }
        },
        "740cc07c3d6246a6b95acda47625a429": {
          "model_module": "@jupyter-widgets/controls",
          "model_name": "ProgressStyleModel",
          "model_module_version": "1.5.0",
          "state": {
            "_view_name": "StyleView",
            "_model_name": "ProgressStyleModel",
            "description_width": "",
            "_view_module": "@jupyter-widgets/base",
            "_model_module_version": "1.5.0",
            "_view_count": null,
            "_view_module_version": "1.2.0",
            "bar_color": null,
            "_model_module": "@jupyter-widgets/controls"
          }
        },
        "22a95690145e4188b10bcdf5349c1a7b": {
          "model_module": "@jupyter-widgets/base",
          "model_name": "LayoutModel",
          "model_module_version": "1.2.0",
          "state": {
            "_view_name": "LayoutView",
            "grid_template_rows": null,
            "right": null,
            "justify_content": null,
            "_view_module": "@jupyter-widgets/base",
            "overflow": null,
            "_model_module_version": "1.2.0",
            "_view_count": null,
            "flex_flow": null,
            "width": null,
            "min_width": null,
            "border": null,
            "align_items": null,
            "bottom": null,
            "_model_module": "@jupyter-widgets/base",
            "top": null,
            "grid_column": null,
            "overflow_y": null,
            "overflow_x": null,
            "grid_auto_flow": null,
            "grid_area": null,
            "grid_template_columns": null,
            "flex": null,
            "_model_name": "LayoutModel",
            "justify_items": null,
            "grid_row": null,
            "max_height": null,
            "align_content": null,
            "visibility": null,
            "align_self": null,
            "height": null,
            "min_height": null,
            "padding": null,
            "grid_auto_rows": null,
            "grid_gap": null,
            "max_width": null,
            "order": null,
            "_view_module_version": "1.2.0",
            "grid_template_areas": null,
            "object_position": null,
            "object_fit": null,
            "grid_auto_columns": null,
            "margin": null,
            "display": null,
            "left": null
          }
        },
        "204eb0f89c814903b185e2c40a3f5101": {
          "model_module": "@jupyter-widgets/controls",
          "model_name": "DescriptionStyleModel",
          "model_module_version": "1.5.0",
          "state": {
            "_view_name": "StyleView",
            "_model_name": "DescriptionStyleModel",
            "description_width": "",
            "_view_module": "@jupyter-widgets/base",
            "_model_module_version": "1.5.0",
            "_view_count": null,
            "_view_module_version": "1.2.0",
            "_model_module": "@jupyter-widgets/controls"
          }
        },
        "d4ce8db0d7e94625a6e75a720d410650": {
          "model_module": "@jupyter-widgets/base",
          "model_name": "LayoutModel",
          "model_module_version": "1.2.0",
          "state": {
            "_view_name": "LayoutView",
            "grid_template_rows": null,
            "right": null,
            "justify_content": null,
            "_view_module": "@jupyter-widgets/base",
            "overflow": null,
            "_model_module_version": "1.2.0",
            "_view_count": null,
            "flex_flow": null,
            "width": null,
            "min_width": null,
            "border": null,
            "align_items": null,
            "bottom": null,
            "_model_module": "@jupyter-widgets/base",
            "top": null,
            "grid_column": null,
            "overflow_y": null,
            "overflow_x": null,
            "grid_auto_flow": null,
            "grid_area": null,
            "grid_template_columns": null,
            "flex": null,
            "_model_name": "LayoutModel",
            "justify_items": null,
            "grid_row": null,
            "max_height": null,
            "align_content": null,
            "visibility": null,
            "align_self": null,
            "height": null,
            "min_height": null,
            "padding": null,
            "grid_auto_rows": null,
            "grid_gap": null,
            "max_width": null,
            "order": null,
            "_view_module_version": "1.2.0",
            "grid_template_areas": null,
            "object_position": null,
            "object_fit": null,
            "grid_auto_columns": null,
            "margin": null,
            "display": null,
            "left": null
          }
        },
        "fdd19a44361e46d99d83852ab332bc42": {
          "model_module": "@jupyter-widgets/controls",
          "model_name": "HBoxModel",
          "model_module_version": "1.5.0",
          "state": {
            "_view_name": "HBoxView",
            "_dom_classes": [],
            "_model_name": "HBoxModel",
            "_view_module": "@jupyter-widgets/controls",
            "_model_module_version": "1.5.0",
            "_view_count": null,
            "_view_module_version": "1.5.0",
            "box_style": "",
            "layout": "IPY_MODEL_2fecd76cef6941a8b58faf57809d09db",
            "_model_module": "@jupyter-widgets/controls",
            "children": [
              "IPY_MODEL_622e97dbbaa448499de6c881ed34778f",
              "IPY_MODEL_ef4093d7f8644a7e8d3b4d7eaa915fe3",
              "IPY_MODEL_6ace6ce47b9443a7bd01218ea413fa11"
            ]
          }
        },
        "2fecd76cef6941a8b58faf57809d09db": {
          "model_module": "@jupyter-widgets/base",
          "model_name": "LayoutModel",
          "model_module_version": "1.2.0",
          "state": {
            "_view_name": "LayoutView",
            "grid_template_rows": null,
            "right": null,
            "justify_content": null,
            "_view_module": "@jupyter-widgets/base",
            "overflow": null,
            "_model_module_version": "1.2.0",
            "_view_count": null,
            "flex_flow": null,
            "width": null,
            "min_width": null,
            "border": null,
            "align_items": null,
            "bottom": null,
            "_model_module": "@jupyter-widgets/base",
            "top": null,
            "grid_column": null,
            "overflow_y": null,
            "overflow_x": null,
            "grid_auto_flow": null,
            "grid_area": null,
            "grid_template_columns": null,
            "flex": null,
            "_model_name": "LayoutModel",
            "justify_items": null,
            "grid_row": null,
            "max_height": null,
            "align_content": null,
            "visibility": null,
            "align_self": null,
            "height": null,
            "min_height": null,
            "padding": null,
            "grid_auto_rows": null,
            "grid_gap": null,
            "max_width": null,
            "order": null,
            "_view_module_version": "1.2.0",
            "grid_template_areas": null,
            "object_position": null,
            "object_fit": null,
            "grid_auto_columns": null,
            "margin": null,
            "display": null,
            "left": null
          }
        },
        "622e97dbbaa448499de6c881ed34778f": {
          "model_module": "@jupyter-widgets/controls",
          "model_name": "HTMLModel",
          "model_module_version": "1.5.0",
          "state": {
            "_view_name": "HTMLView",
            "style": "IPY_MODEL_023c04b5f49b45ef80471b009db128ff",
            "_dom_classes": [],
            "description": "",
            "_model_name": "HTMLModel",
            "placeholder": "​",
            "_view_module": "@jupyter-widgets/controls",
            "_model_module_version": "1.5.0",
            "value": "Downloading: 100%",
            "_view_count": null,
            "_view_module_version": "1.5.0",
            "description_tooltip": null,
            "_model_module": "@jupyter-widgets/controls",
            "layout": "IPY_MODEL_a57d949742fb45018729d043576539af"
          }
        },
        "ef4093d7f8644a7e8d3b4d7eaa915fe3": {
          "model_module": "@jupyter-widgets/controls",
          "model_name": "FloatProgressModel",
          "model_module_version": "1.5.0",
          "state": {
            "_view_name": "ProgressView",
            "style": "IPY_MODEL_e2c19b7728dd4c80b047d015a83f41a3",
            "_dom_classes": [],
            "description": "",
            "_model_name": "FloatProgressModel",
            "bar_style": "success",
            "max": 542529064,
            "_view_module": "@jupyter-widgets/controls",
            "_model_module_version": "1.5.0",
            "value": 542529064,
            "_view_count": null,
            "_view_module_version": "1.5.0",
            "orientation": "horizontal",
            "min": 0,
            "description_tooltip": null,
            "_model_module": "@jupyter-widgets/controls",
            "layout": "IPY_MODEL_65995a15d3b94a98a05453c3cb1b8289"
          }
        },
        "6ace6ce47b9443a7bd01218ea413fa11": {
          "model_module": "@jupyter-widgets/controls",
          "model_name": "HTMLModel",
          "model_module_version": "1.5.0",
          "state": {
            "_view_name": "HTMLView",
            "style": "IPY_MODEL_330331c1bb7b4bb6bcb628ae5fcf534c",
            "_dom_classes": [],
            "description": "",
            "_model_name": "HTMLModel",
            "placeholder": "​",
            "_view_module": "@jupyter-widgets/controls",
            "_model_module_version": "1.5.0",
            "value": " 517M/517M [00:21&lt;00:00, 24.8MB/s]",
            "_view_count": null,
            "_view_module_version": "1.5.0",
            "description_tooltip": null,
            "_model_module": "@jupyter-widgets/controls",
            "layout": "IPY_MODEL_64661e1a950244379e40992e6378f713"
          }
        },
        "023c04b5f49b45ef80471b009db128ff": {
          "model_module": "@jupyter-widgets/controls",
          "model_name": "DescriptionStyleModel",
          "model_module_version": "1.5.0",
          "state": {
            "_view_name": "StyleView",
            "_model_name": "DescriptionStyleModel",
            "description_width": "",
            "_view_module": "@jupyter-widgets/base",
            "_model_module_version": "1.5.0",
            "_view_count": null,
            "_view_module_version": "1.2.0",
            "_model_module": "@jupyter-widgets/controls"
          }
        },
        "a57d949742fb45018729d043576539af": {
          "model_module": "@jupyter-widgets/base",
          "model_name": "LayoutModel",
          "model_module_version": "1.2.0",
          "state": {
            "_view_name": "LayoutView",
            "grid_template_rows": null,
            "right": null,
            "justify_content": null,
            "_view_module": "@jupyter-widgets/base",
            "overflow": null,
            "_model_module_version": "1.2.0",
            "_view_count": null,
            "flex_flow": null,
            "width": null,
            "min_width": null,
            "border": null,
            "align_items": null,
            "bottom": null,
            "_model_module": "@jupyter-widgets/base",
            "top": null,
            "grid_column": null,
            "overflow_y": null,
            "overflow_x": null,
            "grid_auto_flow": null,
            "grid_area": null,
            "grid_template_columns": null,
            "flex": null,
            "_model_name": "LayoutModel",
            "justify_items": null,
            "grid_row": null,
            "max_height": null,
            "align_content": null,
            "visibility": null,
            "align_self": null,
            "height": null,
            "min_height": null,
            "padding": null,
            "grid_auto_rows": null,
            "grid_gap": null,
            "max_width": null,
            "order": null,
            "_view_module_version": "1.2.0",
            "grid_template_areas": null,
            "object_position": null,
            "object_fit": null,
            "grid_auto_columns": null,
            "margin": null,
            "display": null,
            "left": null
          }
        },
        "e2c19b7728dd4c80b047d015a83f41a3": {
          "model_module": "@jupyter-widgets/controls",
          "model_name": "ProgressStyleModel",
          "model_module_version": "1.5.0",
          "state": {
            "_view_name": "StyleView",
            "_model_name": "ProgressStyleModel",
            "description_width": "",
            "_view_module": "@jupyter-widgets/base",
            "_model_module_version": "1.5.0",
            "_view_count": null,
            "_view_module_version": "1.2.0",
            "bar_color": null,
            "_model_module": "@jupyter-widgets/controls"
          }
        },
        "65995a15d3b94a98a05453c3cb1b8289": {
          "model_module": "@jupyter-widgets/base",
          "model_name": "LayoutModel",
          "model_module_version": "1.2.0",
          "state": {
            "_view_name": "LayoutView",
            "grid_template_rows": null,
            "right": null,
            "justify_content": null,
            "_view_module": "@jupyter-widgets/base",
            "overflow": null,
            "_model_module_version": "1.2.0",
            "_view_count": null,
            "flex_flow": null,
            "width": null,
            "min_width": null,
            "border": null,
            "align_items": null,
            "bottom": null,
            "_model_module": "@jupyter-widgets/base",
            "top": null,
            "grid_column": null,
            "overflow_y": null,
            "overflow_x": null,
            "grid_auto_flow": null,
            "grid_area": null,
            "grid_template_columns": null,
            "flex": null,
            "_model_name": "LayoutModel",
            "justify_items": null,
            "grid_row": null,
            "max_height": null,
            "align_content": null,
            "visibility": null,
            "align_self": null,
            "height": null,
            "min_height": null,
            "padding": null,
            "grid_auto_rows": null,
            "grid_gap": null,
            "max_width": null,
            "order": null,
            "_view_module_version": "1.2.0",
            "grid_template_areas": null,
            "object_position": null,
            "object_fit": null,
            "grid_auto_columns": null,
            "margin": null,
            "display": null,
            "left": null
          }
        },
        "330331c1bb7b4bb6bcb628ae5fcf534c": {
          "model_module": "@jupyter-widgets/controls",
          "model_name": "DescriptionStyleModel",
          "model_module_version": "1.5.0",
          "state": {
            "_view_name": "StyleView",
            "_model_name": "DescriptionStyleModel",
            "description_width": "",
            "_view_module": "@jupyter-widgets/base",
            "_model_module_version": "1.5.0",
            "_view_count": null,
            "_view_module_version": "1.2.0",
            "_model_module": "@jupyter-widgets/controls"
          }
        },
        "64661e1a950244379e40992e6378f713": {
          "model_module": "@jupyter-widgets/base",
          "model_name": "LayoutModel",
          "model_module_version": "1.2.0",
          "state": {
            "_view_name": "LayoutView",
            "grid_template_rows": null,
            "right": null,
            "justify_content": null,
            "_view_module": "@jupyter-widgets/base",
            "overflow": null,
            "_model_module_version": "1.2.0",
            "_view_count": null,
            "flex_flow": null,
            "width": null,
            "min_width": null,
            "border": null,
            "align_items": null,
            "bottom": null,
            "_model_module": "@jupyter-widgets/base",
            "top": null,
            "grid_column": null,
            "overflow_y": null,
            "overflow_x": null,
            "grid_auto_flow": null,
            "grid_area": null,
            "grid_template_columns": null,
            "flex": null,
            "_model_name": "LayoutModel",
            "justify_items": null,
            "grid_row": null,
            "max_height": null,
            "align_content": null,
            "visibility": null,
            "align_self": null,
            "height": null,
            "min_height": null,
            "padding": null,
            "grid_auto_rows": null,
            "grid_gap": null,
            "max_width": null,
            "order": null,
            "_view_module_version": "1.2.0",
            "grid_template_areas": null,
            "object_position": null,
            "object_fit": null,
            "grid_auto_columns": null,
            "margin": null,
            "display": null,
            "left": null
          }
        }
      }
    }
  },
  "cells": [
    {
      "cell_type": "markdown",
      "metadata": {
        "id": "lr6Ko0x6MNiR"
      },
      "source": [
        "# Welcome to the Demo!\n",
        "\n",
        "Hello there! Welcome to the demo of TweetCaster! This section will guide you on how to use our project and see it in action on a small dataset (don't worry, we have done most of the dataset heavylifting for you). But before we move forward with that, we would highly recommend you to open this notebook in Google Colab. There are certain features (like downloading datasets) that might work only on that platform. Having said this, let's begin!\n",
        "\n",
        "## Step 1: Download the dependencies\n",
        "There are a set of libraries that might need to be downloaded and installed and a bunch of other libraries that you might just need to import. To do this, just run the two cells we have provided in the Project Setup section. They will automatically install everything for you while you just sit back enjoy the satisfying scene of a moving progress bar. :)\n",
        "\n",
        "## Step 2: Pre-process the dataset\n",
        "The dataset will need to be pre-processed before we can show you the magic of TweetCaster. This will hydrate the dataset and also get rid of any not-so-useful hashtags or retweet tags that Twitter occassionally adds in the tweet body. Just run the cells in dataset preparation starting from top going to the bottom one by one and you should be on your way to trying out our very first experiment. This section also has a helper that we use to show you pretty charts in our notebook.\n",
        "\n",
        "## Step 3: Tweet Sentiment Analysis\n",
        "You would need to run sentiment analysis on the tweets loaded in the dataset. This is a crucial datapoint for our project and MUST NOT be skipped for error-free run. Execute all cells in Tweet Sentiment Analysis section starting from top going all the way to the bottom one by one. Getting the subjectivity and polarity, in our experience, takes about 2 - 3 minutes. Please be patient while it runs - coffee break! Once everything is done executing, you might see a couple of graphs pop up. One of them tells you the sentiment distribution in our dataset and the other one will show you the prominent words through a word cloud.\n",
        "\n",
        "## Step 4: Adding Step 3 Results to Dataset\n",
        "Alright, this is the last boring section, I promise! All you need to do is execute the cells in the given order in the Dataset Pre-processing after Sentiment Analysis section.\n",
        "\n",
        "## Step 5: Experimentation, Evaluation, and a Cup of Tea (OPTIONAL)\n",
        "This section just shows all the approaches we tried and displays the RMSE returned by each. This step is completely optional and MAY BE SKIPPED if you would like to go directly to our main approach.\n",
        "\n",
        "### Step 5a: Regression using Sentiment Analysis (OPTIONAL)\n",
        "We have set up this section to run linear regression on the input and display the graph of predictions and true case numbers. At the end of the section, the root mean squared error (RMSE) value is also printed. Be sure to execute all cells in this section in the given order to see the expected results.\n",
        "\n",
        "### Step 5b: Time Series Models (OPTIONAL)\n",
        "We implemented some time series models for you to check out. As of now, we have ARIMA, OLS, an ensemble of the two methods and an ensemble of the two with the linear regression model from Step 5a loaded in. You may start from the top and work your way to the bottom. Each subsection will display the prediction and true values graph and print out the RMSE value.\n",
        "\n",
        "### Step 5c: Neural Network with Tweet Metadata and Sentiment Analysis (OPTIONAL)\n",
        "We implemented the neural network we suggest in our report with just the tweet metadata and sentiment analysis data. We have already pre-loaded all the hyper-parameters for you so that you can just hit the execute button on all the cells in this section and watch everything run.\n",
        "\n",
        "## Step 6: Tweet Vectorization (REQUIRED)\n",
        "The next section involves tweet vectorization. Simply run all the cells in Tweet Vectorization section and you should be good to go.\n",
        "<b>Important:</b> If you would like to use the TF-IDF embeddings, be sure to set the TF-IDF `MAX_FEATURES` variable to the maximum number of features you would like to see. We have tested it with 200 and 500 features.\n",
        "\n",
        "### Step 5d: Neural Netowrk with Tweet Encoding Only (OPTIONAL)\n",
        "While playing around with the data, we implemented the neural network on the tweet encoding data as well. This section does not assume access to the tweet metadata or its sentiment value. Feel free to run this section entirely if you would like to see how well does the model perform without rest of the data we have gathered so far. Apart from the usual data, you may also see a smoothed graph. This graph is just a 5-days moving average of the graph you were seeing earlier.\n",
        "\n",
        "## Step 7: TweetCaster - Neural Network with Tweet Encoding, Metadata and Sentiment Values (MAIN APPROACH)\n",
        "This is the main approach of our work. You may play around with the embedding we use for this part. Please read the note in the section to see exactly how to change between embedding. As of now, we have it set to execute everything using BERTweet embedding. We currently have it set to also train four models (with different sizes of the rolling window), but the code block with show just one set of graphs (for the rolling window of 7 days, since it performs the best). Change the `qualifying_entry` to (`rolling_window_length`, 7) where `rolling_window_length` can take values of 7, 14, 21 and 28 will let you see the other graphs as well. Be sure to execute all the code blocks in this section in the given order to avoid any errors.\n",
        "\n",
        "## Thank You for Checking Out TweetCaster!\n",
        "Alright, that was all! Thanks for reading the demo, and I hope that you enjoyed checking out our project. Have a great day and Happy Holidays! :)"
      ]
    },
    {
      "cell_type": "markdown",
      "metadata": {
        "id": "c9o5jOmcZJbY"
      },
      "source": [
        "# Project Setup"
      ]
    },
    {
      "cell_type": "markdown",
      "metadata": {
        "id": "Ub_9AQFIzx9Y"
      },
      "source": [
        "This section mostly deals with setting up the project. This includes installing the dependencies and downloading the relevant datasets for analysis over the project."
      ]
    },
    {
      "cell_type": "code",
      "metadata": {
        "id": "SDQmi4PThDEu",
        "colab": {
          "base_uri": "https://localhost:8080/"
        },
        "outputId": "49a31bc0-2942-4bc0-9231-3f7ab78e6924"
      },
      "source": [
        "import re\n",
        "import torch\n",
        "import warnings\n",
        "import itertools\n",
        "from math import sqrt\n",
        "\n",
        "import pandas as pd \n",
        "import numpy as np \n",
        "import matplotlib.pyplot as plt\n",
        "import matplotlib as pyplot\n",
        "from torch import nn\n",
        "\n",
        "from textblob import TextBlob\n",
        "from wordcloud import WordCloud\n",
        "from tqdm import tqdm, trange\n",
        "from google.colab import drive, files\n",
        "from nltk.tokenize import TweetTokenizer\n",
        "from sklearn.feature_extraction.text import TfidfVectorizer\n",
        "from sklearn.metrics import mean_squared_error\n",
        "from sklearn.model_selection import train_test_split\n",
        "\n",
        "!pip install transformers\n",
        "!pip install emoji\n",
        "from transformers import AutoModel, AutoTokenizer\n",
        "\n",
        "!pip install sentence-transformers\n",
        "from sentence_transformers import SentenceTransformer\n",
        "\n",
        "!pip install statsmodels\n",
        "from statsmodels.tsa.arima_model import ARIMA\n",
        "from statsmodels.regression.linear_model import OLS\n",
        "\n",
        "warnings.filterwarnings('ignore')"
      ],
      "execution_count": 1,
      "outputs": [
        {
          "output_type": "stream",
          "name": "stdout",
          "text": [
            "Collecting transformers\n",
            "  Downloading transformers-4.12.5-py3-none-any.whl (3.1 MB)\n",
            "\u001b[K     |████████████████████████████████| 3.1 MB 5.3 MB/s \n",
            "\u001b[?25hRequirement already satisfied: tqdm>=4.27 in /usr/local/lib/python3.7/dist-packages (from transformers) (4.62.3)\n",
            "Requirement already satisfied: regex!=2019.12.17 in /usr/local/lib/python3.7/dist-packages (from transformers) (2019.12.20)\n",
            "Requirement already satisfied: requests in /usr/local/lib/python3.7/dist-packages (from transformers) (2.23.0)\n",
            "Collecting huggingface-hub<1.0,>=0.1.0\n",
            "  Downloading huggingface_hub-0.2.0-py3-none-any.whl (61 kB)\n",
            "\u001b[K     |████████████████████████████████| 61 kB 460 kB/s \n",
            "\u001b[?25hRequirement already satisfied: numpy>=1.17 in /usr/local/lib/python3.7/dist-packages (from transformers) (1.19.5)\n",
            "Requirement already satisfied: importlib-metadata in /usr/local/lib/python3.7/dist-packages (from transformers) (4.8.2)\n",
            "Requirement already satisfied: filelock in /usr/local/lib/python3.7/dist-packages (from transformers) (3.4.0)\n",
            "Requirement already satisfied: packaging>=20.0 in /usr/local/lib/python3.7/dist-packages (from transformers) (21.3)\n",
            "Collecting sacremoses\n",
            "  Downloading sacremoses-0.0.46-py3-none-any.whl (895 kB)\n",
            "\u001b[K     |████████████████████████████████| 895 kB 41.2 MB/s \n",
            "\u001b[?25hCollecting pyyaml>=5.1\n",
            "  Downloading PyYAML-6.0-cp37-cp37m-manylinux_2_5_x86_64.manylinux1_x86_64.manylinux_2_12_x86_64.manylinux2010_x86_64.whl (596 kB)\n",
            "\u001b[K     |████████████████████████████████| 596 kB 43.0 MB/s \n",
            "\u001b[?25hCollecting tokenizers<0.11,>=0.10.1\n",
            "  Downloading tokenizers-0.10.3-cp37-cp37m-manylinux_2_5_x86_64.manylinux1_x86_64.manylinux_2_12_x86_64.manylinux2010_x86_64.whl (3.3 MB)\n",
            "\u001b[K     |████████████████████████████████| 3.3 MB 32.2 MB/s \n",
            "\u001b[?25hRequirement already satisfied: typing-extensions>=3.7.4.3 in /usr/local/lib/python3.7/dist-packages (from huggingface-hub<1.0,>=0.1.0->transformers) (3.10.0.2)\n",
            "Requirement already satisfied: pyparsing!=3.0.5,>=2.0.2 in /usr/local/lib/python3.7/dist-packages (from packaging>=20.0->transformers) (3.0.6)\n",
            "Requirement already satisfied: zipp>=0.5 in /usr/local/lib/python3.7/dist-packages (from importlib-metadata->transformers) (3.6.0)\n",
            "Requirement already satisfied: urllib3!=1.25.0,!=1.25.1,<1.26,>=1.21.1 in /usr/local/lib/python3.7/dist-packages (from requests->transformers) (1.24.3)\n",
            "Requirement already satisfied: certifi>=2017.4.17 in /usr/local/lib/python3.7/dist-packages (from requests->transformers) (2021.10.8)\n",
            "Requirement already satisfied: idna<3,>=2.5 in /usr/local/lib/python3.7/dist-packages (from requests->transformers) (2.10)\n",
            "Requirement already satisfied: chardet<4,>=3.0.2 in /usr/local/lib/python3.7/dist-packages (from requests->transformers) (3.0.4)\n",
            "Requirement already satisfied: click in /usr/local/lib/python3.7/dist-packages (from sacremoses->transformers) (7.1.2)\n",
            "Requirement already satisfied: six in /usr/local/lib/python3.7/dist-packages (from sacremoses->transformers) (1.15.0)\n",
            "Requirement already satisfied: joblib in /usr/local/lib/python3.7/dist-packages (from sacremoses->transformers) (1.1.0)\n",
            "Installing collected packages: pyyaml, tokenizers, sacremoses, huggingface-hub, transformers\n",
            "  Attempting uninstall: pyyaml\n",
            "    Found existing installation: PyYAML 3.13\n",
            "    Uninstalling PyYAML-3.13:\n",
            "      Successfully uninstalled PyYAML-3.13\n",
            "Successfully installed huggingface-hub-0.2.0 pyyaml-6.0 sacremoses-0.0.46 tokenizers-0.10.3 transformers-4.12.5\n",
            "Collecting emoji\n",
            "  Downloading emoji-1.6.1.tar.gz (170 kB)\n",
            "\u001b[K     |████████████████████████████████| 170 kB 5.3 MB/s \n",
            "\u001b[?25hBuilding wheels for collected packages: emoji\n",
            "  Building wheel for emoji (setup.py) ... \u001b[?25l\u001b[?25hdone\n",
            "  Created wheel for emoji: filename=emoji-1.6.1-py3-none-any.whl size=169314 sha256=0657fe0f3bf25b36294e6980baf415ed24042fdebeba0f280c8eef58c9634f1f\n",
            "  Stored in directory: /root/.cache/pip/wheels/ea/5f/d3/03d313ddb3c2a1a427bb4690f1621eea60fe6f2a30cc95940f\n",
            "Successfully built emoji\n",
            "Installing collected packages: emoji\n",
            "Successfully installed emoji-1.6.1\n",
            "Collecting sentence-transformers\n",
            "  Downloading sentence-transformers-2.1.0.tar.gz (78 kB)\n",
            "\u001b[K     |████████████████████████████████| 78 kB 3.6 MB/s \n",
            "\u001b[?25hRequirement already satisfied: transformers<5.0.0,>=4.6.0 in /usr/local/lib/python3.7/dist-packages (from sentence-transformers) (4.12.5)\n",
            "Requirement already satisfied: tokenizers>=0.10.3 in /usr/local/lib/python3.7/dist-packages (from sentence-transformers) (0.10.3)\n",
            "Requirement already satisfied: tqdm in /usr/local/lib/python3.7/dist-packages (from sentence-transformers) (4.62.3)\n",
            "Requirement already satisfied: torch>=1.6.0 in /usr/local/lib/python3.7/dist-packages (from sentence-transformers) (1.10.0+cu111)\n",
            "Requirement already satisfied: torchvision in /usr/local/lib/python3.7/dist-packages (from sentence-transformers) (0.11.1+cu111)\n",
            "Requirement already satisfied: numpy in /usr/local/lib/python3.7/dist-packages (from sentence-transformers) (1.19.5)\n",
            "Requirement already satisfied: scikit-learn in /usr/local/lib/python3.7/dist-packages (from sentence-transformers) (1.0.1)\n",
            "Requirement already satisfied: scipy in /usr/local/lib/python3.7/dist-packages (from sentence-transformers) (1.4.1)\n",
            "Requirement already satisfied: nltk in /usr/local/lib/python3.7/dist-packages (from sentence-transformers) (3.2.5)\n",
            "Collecting sentencepiece\n",
            "  Downloading sentencepiece-0.1.96-cp37-cp37m-manylinux_2_17_x86_64.manylinux2014_x86_64.whl (1.2 MB)\n",
            "\u001b[K     |████████████████████████████████| 1.2 MB 11.5 MB/s \n",
            "\u001b[?25hRequirement already satisfied: huggingface-hub in /usr/local/lib/python3.7/dist-packages (from sentence-transformers) (0.2.0)\n",
            "Requirement already satisfied: typing-extensions in /usr/local/lib/python3.7/dist-packages (from torch>=1.6.0->sentence-transformers) (3.10.0.2)\n",
            "Requirement already satisfied: pyyaml>=5.1 in /usr/local/lib/python3.7/dist-packages (from transformers<5.0.0,>=4.6.0->sentence-transformers) (6.0)\n",
            "Requirement already satisfied: importlib-metadata in /usr/local/lib/python3.7/dist-packages (from transformers<5.0.0,>=4.6.0->sentence-transformers) (4.8.2)\n",
            "Requirement already satisfied: requests in /usr/local/lib/python3.7/dist-packages (from transformers<5.0.0,>=4.6.0->sentence-transformers) (2.23.0)\n",
            "Requirement already satisfied: regex!=2019.12.17 in /usr/local/lib/python3.7/dist-packages (from transformers<5.0.0,>=4.6.0->sentence-transformers) (2019.12.20)\n",
            "Requirement already satisfied: sacremoses in /usr/local/lib/python3.7/dist-packages (from transformers<5.0.0,>=4.6.0->sentence-transformers) (0.0.46)\n",
            "Requirement already satisfied: packaging>=20.0 in /usr/local/lib/python3.7/dist-packages (from transformers<5.0.0,>=4.6.0->sentence-transformers) (21.3)\n",
            "Requirement already satisfied: filelock in /usr/local/lib/python3.7/dist-packages (from transformers<5.0.0,>=4.6.0->sentence-transformers) (3.4.0)\n",
            "Requirement already satisfied: pyparsing!=3.0.5,>=2.0.2 in /usr/local/lib/python3.7/dist-packages (from packaging>=20.0->transformers<5.0.0,>=4.6.0->sentence-transformers) (3.0.6)\n",
            "Requirement already satisfied: zipp>=0.5 in /usr/local/lib/python3.7/dist-packages (from importlib-metadata->transformers<5.0.0,>=4.6.0->sentence-transformers) (3.6.0)\n",
            "Requirement already satisfied: six in /usr/local/lib/python3.7/dist-packages (from nltk->sentence-transformers) (1.15.0)\n",
            "Requirement already satisfied: urllib3!=1.25.0,!=1.25.1,<1.26,>=1.21.1 in /usr/local/lib/python3.7/dist-packages (from requests->transformers<5.0.0,>=4.6.0->sentence-transformers) (1.24.3)\n",
            "Requirement already satisfied: chardet<4,>=3.0.2 in /usr/local/lib/python3.7/dist-packages (from requests->transformers<5.0.0,>=4.6.0->sentence-transformers) (3.0.4)\n",
            "Requirement already satisfied: certifi>=2017.4.17 in /usr/local/lib/python3.7/dist-packages (from requests->transformers<5.0.0,>=4.6.0->sentence-transformers) (2021.10.8)\n",
            "Requirement already satisfied: idna<3,>=2.5 in /usr/local/lib/python3.7/dist-packages (from requests->transformers<5.0.0,>=4.6.0->sentence-transformers) (2.10)\n",
            "Requirement already satisfied: click in /usr/local/lib/python3.7/dist-packages (from sacremoses->transformers<5.0.0,>=4.6.0->sentence-transformers) (7.1.2)\n",
            "Requirement already satisfied: joblib in /usr/local/lib/python3.7/dist-packages (from sacremoses->transformers<5.0.0,>=4.6.0->sentence-transformers) (1.1.0)\n",
            "Requirement already satisfied: threadpoolctl>=2.0.0 in /usr/local/lib/python3.7/dist-packages (from scikit-learn->sentence-transformers) (3.0.0)\n",
            "Requirement already satisfied: pillow!=8.3.0,>=5.3.0 in /usr/local/lib/python3.7/dist-packages (from torchvision->sentence-transformers) (7.1.2)\n",
            "Building wheels for collected packages: sentence-transformers\n",
            "  Building wheel for sentence-transformers (setup.py) ... \u001b[?25l\u001b[?25hdone\n",
            "  Created wheel for sentence-transformers: filename=sentence_transformers-2.1.0-py3-none-any.whl size=121000 sha256=c5472dc6dbdd2daf62337a46940a2a0d4cb8846d2b0b70f1cd4268f38f38ae21\n",
            "  Stored in directory: /root/.cache/pip/wheels/90/f0/bb/ed1add84da70092ea526466eadc2bfb197c4bcb8d4fa5f7bad\n",
            "Successfully built sentence-transformers\n",
            "Installing collected packages: sentencepiece, sentence-transformers\n",
            "Successfully installed sentence-transformers-2.1.0 sentencepiece-0.1.96\n",
            "Requirement already satisfied: statsmodels in /usr/local/lib/python3.7/dist-packages (0.10.2)\n",
            "Requirement already satisfied: patsy>=0.4.0 in /usr/local/lib/python3.7/dist-packages (from statsmodels) (0.5.2)\n",
            "Requirement already satisfied: scipy>=0.18 in /usr/local/lib/python3.7/dist-packages (from statsmodels) (1.4.1)\n",
            "Requirement already satisfied: pandas>=0.19 in /usr/local/lib/python3.7/dist-packages (from statsmodels) (1.1.5)\n",
            "Requirement already satisfied: numpy>=1.11 in /usr/local/lib/python3.7/dist-packages (from statsmodels) (1.19.5)\n",
            "Requirement already satisfied: pytz>=2017.2 in /usr/local/lib/python3.7/dist-packages (from pandas>=0.19->statsmodels) (2018.9)\n",
            "Requirement already satisfied: python-dateutil>=2.7.3 in /usr/local/lib/python3.7/dist-packages (from pandas>=0.19->statsmodels) (2.8.2)\n",
            "Requirement already satisfied: six in /usr/local/lib/python3.7/dist-packages (from patsy>=0.4.0->statsmodels) (1.15.0)\n"
          ]
        },
        {
          "output_type": "stream",
          "name": "stderr",
          "text": [
            "/usr/local/lib/python3.7/dist-packages/statsmodels/tools/_testing.py:19: FutureWarning: pandas.util.testing is deprecated. Use the functions in the public API at pandas.testing instead.\n",
            "  import pandas.util.testing as tm\n"
          ]
        }
      ]
    },
    {
      "cell_type": "code",
      "metadata": {
        "id": "WtWAWG8ichoH",
        "colab": {
          "base_uri": "https://localhost:8080/"
        },
        "outputId": "4eebb435-c0f7-410e-ecd4-a0061e0f4bdb"
      },
      "source": [
        "# Downloading raw data\n",
        "# 1. Hydrated USA Tweets Dataset\n",
        "!gdown --id 1YVnxh3rnmNb-7AWSoWpVxe24ms29nA3B\n",
        "\n",
        "# 2. COVID-19 Cases Dataset\n",
        "!wget \"https://raw.githubusercontent.com/nytimes/covid-19-data/master/us.csv\""
      ],
      "execution_count": 2,
      "outputs": [
        {
          "output_type": "stream",
          "name": "stdout",
          "text": [
            "Downloading...\n",
            "From: https://drive.google.com/uc?id=1YVnxh3rnmNb-7AWSoWpVxe24ms29nA3B\n",
            "To: /content/2021_usa_dataset_hydrated.tsv\n",
            "100% 69.4M/69.4M [00:00<00:00, 148MB/s]\n",
            "--2021-12-02 21:20:49--  https://raw.githubusercontent.com/nytimes/covid-19-data/master/us.csv\n",
            "Resolving raw.githubusercontent.com (raw.githubusercontent.com)... 185.199.110.133, 185.199.108.133, 185.199.109.133, ...\n",
            "Connecting to raw.githubusercontent.com (raw.githubusercontent.com)|185.199.110.133|:443... connected.\n",
            "HTTP request sent, awaiting response... 200 OK\n",
            "Length: 17424 (17K) [text/plain]\n",
            "Saving to: ‘us.csv’\n",
            "\n",
            "us.csv              100%[===================>]  17.02K  --.-KB/s    in 0.001s  \n",
            "\n",
            "2021-12-02 21:20:49 (24.5 MB/s) - ‘us.csv’ saved [17424/17424]\n",
            "\n"
          ]
        }
      ]
    },
    {
      "cell_type": "markdown",
      "metadata": {
        "id": "snPvh8k_iWYr"
      },
      "source": [
        "# Dataset Preparation"
      ]
    },
    {
      "cell_type": "markdown",
      "metadata": {
        "id": "bD2mGFdZ0EEJ"
      },
      "source": [
        "Once the dataset has been been downloaded, we need to preprocess it before it can be used by our approach. This preprocessing includes, hydrating the dataset (we pre-hydrated it, so we load it from a tsv file), cleaning up the tweets by getting rid of hashtags and retweets symbols, adding metadata to the tweet dataframe and calculating the number of new COVID-19 cases for the dataset retrieved from New York Times."
      ]
    },
    {
      "cell_type": "code",
      "metadata": {
        "id": "gMzSkxFviBRo"
      },
      "source": [
        "# Reading CSVs into dataframes\n",
        "covid_df = pd.read_csv('us.csv')\n",
        "usa_2021_df = pd.read_csv('2021_usa_dataset_hydrated.tsv',sep=\"\\t\", engine='python')\n",
        "\n",
        "# Aggregated tweets to be used by BERTweet\n",
        "usa_2021_agg_df = usa_2021_df.groupby('date')['text'].agg(','.join).reset_index()"
      ],
      "execution_count": 3,
      "outputs": []
    },
    {
      "cell_type": "code",
      "metadata": {
        "id": "-TDMhdC1KCX1",
        "colab": {
          "base_uri": "https://localhost:8080/",
          "height": 293
        },
        "outputId": "f5c46ba7-519f-4ab1-e805-2ddd49175179"
      },
      "source": [
        "# Preparing the Twitter dataset\n",
        "def cleanTweets(tweet):\n",
        "   # removing mentions\n",
        "    tweet = re.sub(r'@[A-Za-z0-9_]+', '', str(tweet))\n",
        "    # removing hashtags\n",
        "    tweet = re.sub(r'#', '', str(tweet))\n",
        "    # removing 'rt' or 'RT' from tweets\n",
        "    tweet = re.sub(r'RT : ', '', str(tweet))\n",
        "    # removing any tweets that include a link\n",
        "    tweet = re.sub(r'https?:\\/\\/[A-Za-z0-9\\.\\/]+', '', str(tweet))\n",
        "    return tweet\n",
        "# cleaning tweets\n",
        "usa_2021_df['text'] = usa_2021_df['text'].apply(cleanTweets)\n",
        "# adding two more features\n",
        "usa_2021_df['day_of_week'] = pd.to_datetime(usa_2021_df['date']).dt.dayofweek\n",
        "sunday_mask = usa_2021_df['day_of_week'] == 0\n",
        "usa_2021_df['day_of_week'][sunday_mask] = 7\n",
        "usa_2021_df['hour_of_day'] = pd.to_datetime(usa_2021_df['time']).dt.hour\n",
        "usa_2021_df.sample(5)"
      ],
      "execution_count": 4,
      "outputs": [
        {
          "output_type": "execute_result",
          "data": {
            "text/html": [
              "<div>\n",
              "<style scoped>\n",
              "    .dataframe tbody tr th:only-of-type {\n",
              "        vertical-align: middle;\n",
              "    }\n",
              "\n",
              "    .dataframe tbody tr th {\n",
              "        vertical-align: top;\n",
              "    }\n",
              "\n",
              "    .dataframe thead th {\n",
              "        text-align: right;\n",
              "    }\n",
              "</style>\n",
              "<table border=\"1\" class=\"dataframe\">\n",
              "  <thead>\n",
              "    <tr style=\"text-align: right;\">\n",
              "      <th></th>\n",
              "      <th>tweet_id</th>\n",
              "      <th>date</th>\n",
              "      <th>time</th>\n",
              "      <th>lang</th>\n",
              "      <th>country_place</th>\n",
              "      <th>text</th>\n",
              "      <th>day_of_week</th>\n",
              "      <th>hour_of_day</th>\n",
              "    </tr>\n",
              "  </thead>\n",
              "  <tbody>\n",
              "    <tr>\n",
              "      <th>146058</th>\n",
              "      <td>1370004510026956807</td>\n",
              "      <td>2021-03-11</td>\n",
              "      <td>13:31:43</td>\n",
              "      <td>en</td>\n",
              "      <td>US</td>\n",
              "      <td>I’m so grateful every former US president stil...</td>\n",
              "      <td>3.0</td>\n",
              "      <td>13.0</td>\n",
              "    </tr>\n",
              "    <tr>\n",
              "      <th>163242</th>\n",
              "      <td>1373338146633617410</td>\n",
              "      <td>2021-03-20</td>\n",
              "      <td>18:18:24</td>\n",
              "      <td>en</td>\n",
              "      <td>US</td>\n",
              "      <td>I love seeing this. Florida is back to normal....</td>\n",
              "      <td>5.0</td>\n",
              "      <td>18.0</td>\n",
              "    </tr>\n",
              "    <tr>\n",
              "      <th>181469</th>\n",
              "      <td>1377283648127307777</td>\n",
              "      <td>2021-03-31</td>\n",
              "      <td>15:36:25</td>\n",
              "      <td>en</td>\n",
              "      <td>US</td>\n",
              "      <td>\"Pfizer says COVID-19 vaccine was 100% effecti...</td>\n",
              "      <td>2.0</td>\n",
              "      <td>15.0</td>\n",
              "    </tr>\n",
              "    <tr>\n",
              "      <th>22415</th>\n",
              "      <td>1348116984723075074</td>\n",
              "      <td>2021-01-10</td>\n",
              "      <td>03:58:30</td>\n",
              "      <td>en</td>\n",
              "      <td>US</td>\n",
              "      <td>“All of these numbers are leading to a lack of...</td>\n",
              "      <td>6.0</td>\n",
              "      <td>3.0</td>\n",
              "    </tr>\n",
              "    <tr>\n",
              "      <th>69577</th>\n",
              "      <td>1355151872357756928</td>\n",
              "      <td>2021-01-29</td>\n",
              "      <td>13:52:38</td>\n",
              "      <td>en</td>\n",
              "      <td>US</td>\n",
              "      <td>Health care workers, stuck in the snow, gave c...</td>\n",
              "      <td>4.0</td>\n",
              "      <td>13.0</td>\n",
              "    </tr>\n",
              "  </tbody>\n",
              "</table>\n",
              "</div>"
            ],
            "text/plain": [
              "                   tweet_id        date  ... day_of_week hour_of_day\n",
              "146058  1370004510026956807  2021-03-11  ...         3.0        13.0\n",
              "163242  1373338146633617410  2021-03-20  ...         5.0        18.0\n",
              "181469  1377283648127307777  2021-03-31  ...         2.0        15.0\n",
              "22415   1348116984723075074  2021-01-10  ...         6.0         3.0\n",
              "69577   1355151872357756928  2021-01-29  ...         4.0        13.0\n",
              "\n",
              "[5 rows x 8 columns]"
            ]
          },
          "metadata": {},
          "execution_count": 4
        }
      ]
    },
    {
      "cell_type": "code",
      "metadata": {
        "id": "_7wU1mPM2UjO",
        "colab": {
          "base_uri": "https://localhost:8080/"
        },
        "outputId": "71150755-995d-4acc-f2fc-b6dc26d4a3be"
      },
      "source": [
        "usa_2021_df.shape"
      ],
      "execution_count": 5,
      "outputs": [
        {
          "output_type": "execute_result",
          "data": {
            "text/plain": [
              "(361756, 8)"
            ]
          },
          "metadata": {},
          "execution_count": 5
        }
      ]
    },
    {
      "cell_type": "markdown",
      "metadata": {
        "id": "M0rOmLoUk4RQ"
      },
      "source": [
        "1. Adding a new column with the number of new cases."
      ]
    },
    {
      "cell_type": "code",
      "metadata": {
        "id": "71mqhcrDidkP",
        "colab": {
          "base_uri": "https://localhost:8080/",
          "height": 424
        },
        "outputId": "4d11d65d-e910-4c14-ea8e-dd9dd6b74578"
      },
      "source": [
        "covid_df['new_cases'] = covid_df['cases'].diff()\n",
        "covid_df['new_cases'][0] = covid_df['cases'][0]\n",
        "\n",
        "covid_df"
      ],
      "execution_count": 6,
      "outputs": [
        {
          "output_type": "execute_result",
          "data": {
            "text/html": [
              "<div>\n",
              "<style scoped>\n",
              "    .dataframe tbody tr th:only-of-type {\n",
              "        vertical-align: middle;\n",
              "    }\n",
              "\n",
              "    .dataframe tbody tr th {\n",
              "        vertical-align: top;\n",
              "    }\n",
              "\n",
              "    .dataframe thead th {\n",
              "        text-align: right;\n",
              "    }\n",
              "</style>\n",
              "<table border=\"1\" class=\"dataframe\">\n",
              "  <thead>\n",
              "    <tr style=\"text-align: right;\">\n",
              "      <th></th>\n",
              "      <th>date</th>\n",
              "      <th>cases</th>\n",
              "      <th>deaths</th>\n",
              "      <th>new_cases</th>\n",
              "    </tr>\n",
              "  </thead>\n",
              "  <tbody>\n",
              "    <tr>\n",
              "      <th>0</th>\n",
              "      <td>2020-01-21</td>\n",
              "      <td>1</td>\n",
              "      <td>0</td>\n",
              "      <td>1.0</td>\n",
              "    </tr>\n",
              "    <tr>\n",
              "      <th>1</th>\n",
              "      <td>2020-01-22</td>\n",
              "      <td>1</td>\n",
              "      <td>0</td>\n",
              "      <td>0.0</td>\n",
              "    </tr>\n",
              "    <tr>\n",
              "      <th>2</th>\n",
              "      <td>2020-01-23</td>\n",
              "      <td>1</td>\n",
              "      <td>0</td>\n",
              "      <td>0.0</td>\n",
              "    </tr>\n",
              "    <tr>\n",
              "      <th>3</th>\n",
              "      <td>2020-01-24</td>\n",
              "      <td>2</td>\n",
              "      <td>0</td>\n",
              "      <td>1.0</td>\n",
              "    </tr>\n",
              "    <tr>\n",
              "      <th>4</th>\n",
              "      <td>2020-01-25</td>\n",
              "      <td>3</td>\n",
              "      <td>0</td>\n",
              "      <td>1.0</td>\n",
              "    </tr>\n",
              "    <tr>\n",
              "      <th>...</th>\n",
              "      <td>...</td>\n",
              "      <td>...</td>\n",
              "      <td>...</td>\n",
              "      <td>...</td>\n",
              "    </tr>\n",
              "    <tr>\n",
              "      <th>676</th>\n",
              "      <td>2021-11-27</td>\n",
              "      <td>48171232</td>\n",
              "      <td>777310</td>\n",
              "      <td>26433.0</td>\n",
              "    </tr>\n",
              "    <tr>\n",
              "      <th>677</th>\n",
              "      <td>2021-11-28</td>\n",
              "      <td>48195182</td>\n",
              "      <td>777417</td>\n",
              "      <td>23950.0</td>\n",
              "    </tr>\n",
              "    <tr>\n",
              "      <th>678</th>\n",
              "      <td>2021-11-29</td>\n",
              "      <td>48411494</td>\n",
              "      <td>779293</td>\n",
              "      <td>216312.0</td>\n",
              "    </tr>\n",
              "    <tr>\n",
              "      <th>679</th>\n",
              "      <td>2021-11-30</td>\n",
              "      <td>48520788</td>\n",
              "      <td>780848</td>\n",
              "      <td>109294.0</td>\n",
              "    </tr>\n",
              "    <tr>\n",
              "      <th>680</th>\n",
              "      <td>2021-12-01</td>\n",
              "      <td>48662120</td>\n",
              "      <td>782826</td>\n",
              "      <td>141332.0</td>\n",
              "    </tr>\n",
              "  </tbody>\n",
              "</table>\n",
              "<p>681 rows × 4 columns</p>\n",
              "</div>"
            ],
            "text/plain": [
              "           date     cases  deaths  new_cases\n",
              "0    2020-01-21         1       0        1.0\n",
              "1    2020-01-22         1       0        0.0\n",
              "2    2020-01-23         1       0        0.0\n",
              "3    2020-01-24         2       0        1.0\n",
              "4    2020-01-25         3       0        1.0\n",
              "..          ...       ...     ...        ...\n",
              "676  2021-11-27  48171232  777310    26433.0\n",
              "677  2021-11-28  48195182  777417    23950.0\n",
              "678  2021-11-29  48411494  779293   216312.0\n",
              "679  2021-11-30  48520788  780848   109294.0\n",
              "680  2021-12-01  48662120  782826   141332.0\n",
              "\n",
              "[681 rows x 4 columns]"
            ]
          },
          "metadata": {},
          "execution_count": 6
        }
      ]
    },
    {
      "cell_type": "markdown",
      "metadata": {
        "id": "MEQLKR1Tk_rd"
      },
      "source": [
        "2. Getting data between March 01, 2021 and August 01, 2021."
      ]
    },
    {
      "cell_type": "code",
      "metadata": {
        "id": "LWCCD05_jsYe",
        "colab": {
          "base_uri": "https://localhost:8080/",
          "height": 424
        },
        "outputId": "aa51471a-79af-4a06-cd17-b1589b6c3c7a"
      },
      "source": [
        "covid_df['date'] = pd.to_datetime(covid_df['date'])\n",
        "mask = (covid_df['date'] >= '2021-03-01') & (covid_df['date'] <= '2021-08-22')\n",
        "covid_df = covid_df[mask]\n",
        "\n",
        "covid_df"
      ],
      "execution_count": 7,
      "outputs": [
        {
          "output_type": "execute_result",
          "data": {
            "text/html": [
              "<div>\n",
              "<style scoped>\n",
              "    .dataframe tbody tr th:only-of-type {\n",
              "        vertical-align: middle;\n",
              "    }\n",
              "\n",
              "    .dataframe tbody tr th {\n",
              "        vertical-align: top;\n",
              "    }\n",
              "\n",
              "    .dataframe thead th {\n",
              "        text-align: right;\n",
              "    }\n",
              "</style>\n",
              "<table border=\"1\" class=\"dataframe\">\n",
              "  <thead>\n",
              "    <tr style=\"text-align: right;\">\n",
              "      <th></th>\n",
              "      <th>date</th>\n",
              "      <th>cases</th>\n",
              "      <th>deaths</th>\n",
              "      <th>new_cases</th>\n",
              "    </tr>\n",
              "  </thead>\n",
              "  <tbody>\n",
              "    <tr>\n",
              "      <th>405</th>\n",
              "      <td>2021-03-01</td>\n",
              "      <td>28680857</td>\n",
              "      <td>514404</td>\n",
              "      <td>56696.0</td>\n",
              "    </tr>\n",
              "    <tr>\n",
              "      <th>406</th>\n",
              "      <td>2021-03-02</td>\n",
              "      <td>28738501</td>\n",
              "      <td>515710</td>\n",
              "      <td>57644.0</td>\n",
              "    </tr>\n",
              "    <tr>\n",
              "      <th>407</th>\n",
              "      <td>2021-03-03</td>\n",
              "      <td>28805113</td>\n",
              "      <td>518079</td>\n",
              "      <td>66612.0</td>\n",
              "    </tr>\n",
              "    <tr>\n",
              "      <th>408</th>\n",
              "      <td>2021-03-04</td>\n",
              "      <td>28872395</td>\n",
              "      <td>520028</td>\n",
              "      <td>67282.0</td>\n",
              "    </tr>\n",
              "    <tr>\n",
              "      <th>409</th>\n",
              "      <td>2021-03-05</td>\n",
              "      <td>28938090</td>\n",
              "      <td>522511</td>\n",
              "      <td>65695.0</td>\n",
              "    </tr>\n",
              "    <tr>\n",
              "      <th>...</th>\n",
              "      <td>...</td>\n",
              "      <td>...</td>\n",
              "      <td>...</td>\n",
              "      <td>...</td>\n",
              "    </tr>\n",
              "    <tr>\n",
              "      <th>575</th>\n",
              "      <td>2021-08-18</td>\n",
              "      <td>37298285</td>\n",
              "      <td>624365</td>\n",
              "      <td>164611.0</td>\n",
              "    </tr>\n",
              "    <tr>\n",
              "      <th>576</th>\n",
              "      <td>2021-08-19</td>\n",
              "      <td>37458037</td>\n",
              "      <td>626099</td>\n",
              "      <td>159752.0</td>\n",
              "    </tr>\n",
              "    <tr>\n",
              "      <th>577</th>\n",
              "      <td>2021-08-20</td>\n",
              "      <td>37657643</td>\n",
              "      <td>627631</td>\n",
              "      <td>199606.0</td>\n",
              "    </tr>\n",
              "    <tr>\n",
              "      <th>578</th>\n",
              "      <td>2021-08-21</td>\n",
              "      <td>37737034</td>\n",
              "      <td>628100</td>\n",
              "      <td>79391.0</td>\n",
              "    </tr>\n",
              "    <tr>\n",
              "      <th>579</th>\n",
              "      <td>2021-08-22</td>\n",
              "      <td>37777607</td>\n",
              "      <td>628285</td>\n",
              "      <td>40573.0</td>\n",
              "    </tr>\n",
              "  </tbody>\n",
              "</table>\n",
              "<p>175 rows × 4 columns</p>\n",
              "</div>"
            ],
            "text/plain": [
              "          date     cases  deaths  new_cases\n",
              "405 2021-03-01  28680857  514404    56696.0\n",
              "406 2021-03-02  28738501  515710    57644.0\n",
              "407 2021-03-03  28805113  518079    66612.0\n",
              "408 2021-03-04  28872395  520028    67282.0\n",
              "409 2021-03-05  28938090  522511    65695.0\n",
              "..         ...       ...     ...        ...\n",
              "575 2021-08-18  37298285  624365   164611.0\n",
              "576 2021-08-19  37458037  626099   159752.0\n",
              "577 2021-08-20  37657643  627631   199606.0\n",
              "578 2021-08-21  37737034  628100    79391.0\n",
              "579 2021-08-22  37777607  628285    40573.0\n",
              "\n",
              "[175 rows x 4 columns]"
            ]
          },
          "metadata": {},
          "execution_count": 7
        }
      ]
    },
    {
      "cell_type": "markdown",
      "metadata": {
        "id": "ObLZCgWokt4c"
      },
      "source": [
        "Visualizer code for predictions"
      ]
    },
    {
      "cell_type": "code",
      "metadata": {
        "id": "Nf6OFEjBktJv"
      },
      "source": [
        "import matplotlib.pyplot as plt\n",
        "\n",
        "def show_model_performance(y_pred, y_target, y_label=\"Predicted Case Numbers\"):\n",
        "    # print(y_pred)\n",
        "    plt.plot(covid_df.date[-y_pred.shape[0]:], y_pred.detach().numpy(), label=y_label)\n",
        "    print(covid_df.date[-y_pred.shape[0]:].shape)\n",
        "    plt.plot(covid_df.date[-y_pred.shape[0]:], y_target.detach().numpy(), label=\"Actual Case Numbers\")\n",
        "    plt.legend()\n",
        "    plt.show()"
      ],
      "execution_count": 8,
      "outputs": []
    },
    {
      "cell_type": "markdown",
      "metadata": {
        "id": "fHGxTGFooBKt"
      },
      "source": [
        "# Tweets Sentiment Analysis"
      ]
    },
    {
      "cell_type": "markdown",
      "metadata": {
        "id": "otXINIhM3MN7"
      },
      "source": [
        "Once the dataset is ready to be analyzed, we run sentiment analysis on all tweets to check for any relations between the general sentiment from the general public and the number of new COVID-19 cases."
      ]
    },
    {
      "cell_type": "code",
      "metadata": {
        "id": "yEOVTShtmz75"
      },
      "source": [
        "def getSentSubjectivity(tweet):\n",
        "    return TextBlob(tweet).sentiment.subjectivity\n",
        "\n",
        "def getSentPolarity(tweet):\n",
        "    return TextBlob(tweet).sentiment.polarity"
      ],
      "execution_count": 9,
      "outputs": []
    },
    {
      "cell_type": "code",
      "metadata": {
        "id": "bwqLCdWim9Io"
      },
      "source": [
        "usa_2021_df['subjectivity'] = usa_2021_df['text'].apply(getSentSubjectivity)\n",
        "usa_2021_df['polarity'] = usa_2021_df['text'].apply(getSentPolarity)"
      ],
      "execution_count": 10,
      "outputs": []
    },
    {
      "cell_type": "code",
      "metadata": {
        "id": "En_KqjkcnSn-"
      },
      "source": [
        "# negative, nautral, positive analysis\n",
        "def assignSentiment(subScore):\n",
        "    if subScore < 0:\n",
        "        return \"Negative\"\n",
        "    elif subScore == 0:\n",
        "        return \"Neutral\"\n",
        "    else:\n",
        "        return \"Positive\""
      ],
      "execution_count": 11,
      "outputs": []
    },
    {
      "cell_type": "code",
      "metadata": {
        "id": "nu7MkAOhnX7Z"
      },
      "source": [
        "usa_2021_df['sentiment'] = usa_2021_df['polarity'].apply(assignSentiment)"
      ],
      "execution_count": 12,
      "outputs": []
    },
    {
      "cell_type": "code",
      "metadata": {
        "id": "5Ld01hUMoRqi",
        "colab": {
          "base_uri": "https://localhost:8080/"
        },
        "outputId": "7671eef9-7d9c-4db4-cb3f-f233cd1eda51"
      },
      "source": [
        "pos_tweets = usa_2021_df[usa_2021_df['sentiment'] == 'Positive']\n",
        "percent_pos_tweets = pos_tweets.shape[0]/usa_2021_df.shape[0] * 100\n",
        "print(\"The percentage of positive tweets of the whole dataset is \" + str(percent_pos_tweets) + \"%\")"
      ],
      "execution_count": 13,
      "outputs": [
        {
          "output_type": "stream",
          "name": "stdout",
          "text": [
            "The percentage of positive tweets of the whole dataset is 36.412112031313924%\n"
          ]
        }
      ]
    },
    {
      "cell_type": "code",
      "metadata": {
        "id": "NRMHLrVbNqk1",
        "colab": {
          "base_uri": "https://localhost:8080/",
          "height": 347
        },
        "outputId": "fe737a2c-1f53-4d06-df90-c1ca6ab4f0c8"
      },
      "source": [
        "num_tweets = usa_2021_df['sentiment'].value_counts().plot.bar(title='Number of Sentiment Tweets', x='sentiment', y='num_tweets')\n",
        "num_tweets.set_xlabel(\"Sentiment\")\n",
        "num_tweets.set_ylabel(\"Number of Tweets\")"
      ],
      "execution_count": 14,
      "outputs": [
        {
          "output_type": "execute_result",
          "data": {
            "text/plain": [
              "Text(0, 0.5, 'Number of Tweets')"
            ]
          },
          "metadata": {},
          "execution_count": 14
        },
        {
          "output_type": "display_data",
          "data": {
            "image/png": "[encoded data removed]",
            "text/plain": [
              "<Figure size 432x288 with 1 Axes>"
            ]
          },
          "metadata": {
            "needs_background": "light"
          }
        }
      ]
    },
    {
      "cell_type": "code",
      "metadata": {
        "id": "i7ptHHntOfR8"
      },
      "source": [
        "usa_2021_df['date'] = pd.to_datetime(usa_2021_df['date'])"
      ],
      "execution_count": 15,
      "outputs": []
    },
    {
      "cell_type": "code",
      "metadata": {
        "id": "qwIf7zMvPHHr"
      },
      "source": [
        "months_pos_list = ['January', 'February', 'March', 'April', 'May', 'June', 'July', 'August']\n",
        "months_pos_nums = []\n",
        "months_neg_nums = []\n",
        "months_net_nums = []\n",
        "\n",
        "for i in range(3, 9):\n",
        "  temp_df = usa_2021_df[pd.to_datetime(usa_2021_df['date']).dt.month == i]\n",
        "  months_pos_nums.append(temp_df['sentiment'].value_counts()['Positive'])\n",
        "\n",
        "month_num_pos_sents = {\n",
        "    'month': months_pos_list[2:],\n",
        "    'Number of Positive Tweets': months_pos_nums,\n",
        "    }"
      ],
      "execution_count": 16,
      "outputs": []
    },
    {
      "cell_type": "code",
      "metadata": {
        "id": "QodovpiaZL06"
      },
      "source": [
        "months_pos_sent = pd.DataFrame.from_dict(month_num_pos_sents)"
      ],
      "execution_count": 17,
      "outputs": []
    },
    {
      "cell_type": "code",
      "metadata": {
        "id": "4ybG9PH5aAgt",
        "colab": {
          "base_uri": "https://localhost:8080/",
          "height": 298
        },
        "outputId": "95b62649-aced-491b-a3d1-5323f32957f6"
      },
      "source": [
        "month_pos_graph = months_pos_sent.plot.line(title=\"Number of Positive Tweets Jan-Aug\")\n",
        "plt.xticks(months_pos_sent.index,months_pos_sent[\"month\"].values)\n",
        "num_tweets.set_xlabel(\"Sentiment\")\n",
        "num_tweets.set_ylabel(\"Number of Tweets\")"
      ],
      "execution_count": 18,
      "outputs": [
        {
          "output_type": "execute_result",
          "data": {
            "text/plain": [
              "Text(17.200000000000003, 0.5, 'Number of Tweets')"
            ]
          },
          "metadata": {},
          "execution_count": 18
        },
        {
          "output_type": "display_data",
          "data": {
            "image/png": "[encoded data removed]",
            "text/plain": [
              "<Figure size 432x288 with 1 Axes>"
            ]
          },
          "metadata": {
            "needs_background": "light"
          }
        }
      ]
    },
    {
      "cell_type": "code",
      "metadata": {
        "id": "ZMVWQZLemIka",
        "colab": {
          "base_uri": "https://localhost:8080/",
          "height": 269
        },
        "outputId": "2bacec8e-d405-4d51-f8f6-18cabcc583da"
      },
      "source": [
        "# Creating a word cloud\n",
        "words = ' '.join([tweet for tweet in usa_2021_df['text']])\n",
        "wordCloud = WordCloud(width=600, height=400).generate(words)\n",
        "\n",
        "plt.imshow(wordCloud)\n",
        "plt.show()"
      ],
      "execution_count": 19,
      "outputs": [
        {
          "output_type": "display_data",
          "data": {
            "image/png": "[encoded data removed]",
            "text/plain": [
              "<Figure size 432x288 with 1 Axes>"
            ]
          },
          "metadata": {
            "needs_background": "light"
          }
        }
      ]
    },
    {
      "cell_type": "markdown",
      "metadata": {
        "id": "CiX3TAlRYLOL"
      },
      "source": [
        "# Dataset Pre-processing after Sentiment Analysis"
      ]
    },
    {
      "cell_type": "markdown",
      "metadata": {
        "id": "o4crhJ4Rl1c-"
      },
      "source": [
        "3. Adding Sentiment Data to the vector."
      ]
    },
    {
      "cell_type": "code",
      "metadata": {
        "id": "5TPTc9P5l0yC",
        "colab": {
          "base_uri": "https://localhost:8080/"
        },
        "outputId": "f6240f7c-7056-4f46-d875-4bbdee17a542"
      },
      "source": [
        "date_mask = (usa_2021_df['date'] == '2021-03-01')\n",
        "print(f\"Number of tweets on March 01, 2021 is {date_mask.sum()}.\")\n",
        "positive_date_mask = date_mask & (usa_2021_df['sentiment'] == 'Positive')\n",
        "print(f\"Number of positive tweets on March 01, 2021 is {positive_date_mask.sum()}.\")"
      ],
      "execution_count": 20,
      "outputs": [
        {
          "output_type": "stream",
          "name": "stdout",
          "text": [
            "Number of tweets on March 01, 2021 is 1555.\n",
            "Number of positive tweets on March 01, 2021 is 666.\n"
          ]
        }
      ]
    },
    {
      "cell_type": "code",
      "metadata": {
        "id": "OLQmcnEYoM-5",
        "colab": {
          "base_uri": "https://localhost:8080/"
        },
        "outputId": "f7bbe3bb-13e2-441f-863c-4ec711afe9f2"
      },
      "source": [
        "num_positive = []\n",
        "num_negative = []\n",
        "num_neutral = []\n",
        "bucket_size = []\n",
        "hourly = [[] for _ in range(24)]\n",
        "weekday = []\n",
        "\n",
        "for curr_date in tqdm(covid_df['date']):\n",
        "    date_mask = (usa_2021_df['date'] == curr_date)\n",
        "    bucket_size.append(date_mask.sum())\n",
        "    # print(f\"Number of tweets on {curr_date} is {date_mask.sum()}.\")\n",
        "    positive_date_mask = date_mask & (usa_2021_df['sentiment'] == 'Positive')\n",
        "    negative_date_mask = date_mask & (usa_2021_df['sentiment'] == 'Negative')\n",
        "    neutral_date_mask = date_mask & (usa_2021_df['sentiment'] == 'Neutral')\n",
        "    # print(f\"Number of positive tweets on {curr_date} is {positive_date_mask.sum()}.\")\n",
        "    num_positive.append(positive_date_mask.sum())\n",
        "    num_negative.append(negative_date_mask.sum())\n",
        "    num_neutral.append(neutral_date_mask.sum())\n",
        "    for curr_hour in range(24):\n",
        "        curr_hour_mask = date_mask & (usa_2021_df['hour_of_day'] == curr_hour)\n",
        "        hourly[curr_hour].append(curr_hour_mask.sum())\n",
        "    weekday.append(curr_date.dayofweek if curr_date.dayofweek != 0 else 7)\n",
        "\n",
        "covid_df['num_positive'] = num_positive\n",
        "covid_df['num_negative'] = num_negative\n",
        "covid_df['num_neutral'] = num_neutral\n",
        "covid_df['day_of_week'] = weekday\n",
        "for curr_hour in range(24):\n",
        "    covid_df[f\"hour_{curr_hour}\"] = hourly[curr_hour]"
      ],
      "execution_count": 21,
      "outputs": [
        {
          "output_type": "stream",
          "name": "stderr",
          "text": [
            "100%|██████████| 175/175 [00:21<00:00,  8.02it/s]\n"
          ]
        }
      ]
    },
    {
      "cell_type": "code",
      "metadata": {
        "id": "e5OhZfcnp6_Y",
        "colab": {
          "base_uri": "https://localhost:8080/",
          "height": 617
        },
        "outputId": "d41b3b3d-2bdb-401b-882d-bb667b10be7c"
      },
      "source": [
        "covid_df"
      ],
      "execution_count": 22,
      "outputs": [
        {
          "output_type": "execute_result",
          "data": {
            "text/html": [
              "<div>\n",
              "<style scoped>\n",
              "    .dataframe tbody tr th:only-of-type {\n",
              "        vertical-align: middle;\n",
              "    }\n",
              "\n",
              "    .dataframe tbody tr th {\n",
              "        vertical-align: top;\n",
              "    }\n",
              "\n",
              "    .dataframe thead th {\n",
              "        text-align: right;\n",
              "    }\n",
              "</style>\n",
              "<table border=\"1\" class=\"dataframe\">\n",
              "  <thead>\n",
              "    <tr style=\"text-align: right;\">\n",
              "      <th></th>\n",
              "      <th>date</th>\n",
              "      <th>cases</th>\n",
              "      <th>deaths</th>\n",
              "      <th>new_cases</th>\n",
              "      <th>num_positive</th>\n",
              "      <th>num_negative</th>\n",
              "      <th>num_neutral</th>\n",
              "      <th>day_of_week</th>\n",
              "      <th>hour_0</th>\n",
              "      <th>hour_1</th>\n",
              "      <th>hour_2</th>\n",
              "      <th>hour_3</th>\n",
              "      <th>hour_4</th>\n",
              "      <th>hour_5</th>\n",
              "      <th>hour_6</th>\n",
              "      <th>hour_7</th>\n",
              "      <th>hour_8</th>\n",
              "      <th>hour_9</th>\n",
              "      <th>hour_10</th>\n",
              "      <th>hour_11</th>\n",
              "      <th>hour_12</th>\n",
              "      <th>hour_13</th>\n",
              "      <th>hour_14</th>\n",
              "      <th>hour_15</th>\n",
              "      <th>hour_16</th>\n",
              "      <th>hour_17</th>\n",
              "      <th>hour_18</th>\n",
              "      <th>hour_19</th>\n",
              "      <th>hour_20</th>\n",
              "      <th>hour_21</th>\n",
              "      <th>hour_22</th>\n",
              "      <th>hour_23</th>\n",
              "    </tr>\n",
              "  </thead>\n",
              "  <tbody>\n",
              "    <tr>\n",
              "      <th>405</th>\n",
              "      <td>2021-03-01</td>\n",
              "      <td>28680857</td>\n",
              "      <td>514404</td>\n",
              "      <td>56696.0</td>\n",
              "      <td>666</td>\n",
              "      <td>265</td>\n",
              "      <td>624</td>\n",
              "      <td>7</td>\n",
              "      <td>51</td>\n",
              "      <td>62</td>\n",
              "      <td>67</td>\n",
              "      <td>55</td>\n",
              "      <td>41</td>\n",
              "      <td>33</td>\n",
              "      <td>16</td>\n",
              "      <td>14</td>\n",
              "      <td>6</td>\n",
              "      <td>9</td>\n",
              "      <td>21</td>\n",
              "      <td>41</td>\n",
              "      <td>59</td>\n",
              "      <td>57</td>\n",
              "      <td>73</td>\n",
              "      <td>94</td>\n",
              "      <td>97</td>\n",
              "      <td>122</td>\n",
              "      <td>108</td>\n",
              "      <td>90</td>\n",
              "      <td>116</td>\n",
              "      <td>110</td>\n",
              "      <td>105</td>\n",
              "      <td>108</td>\n",
              "    </tr>\n",
              "    <tr>\n",
              "      <th>406</th>\n",
              "      <td>2021-03-02</td>\n",
              "      <td>28738501</td>\n",
              "      <td>515710</td>\n",
              "      <td>57644.0</td>\n",
              "      <td>1135</td>\n",
              "      <td>645</td>\n",
              "      <td>1376</td>\n",
              "      <td>1</td>\n",
              "      <td>106</td>\n",
              "      <td>98</td>\n",
              "      <td>74</td>\n",
              "      <td>79</td>\n",
              "      <td>57</td>\n",
              "      <td>38</td>\n",
              "      <td>25</td>\n",
              "      <td>9</td>\n",
              "      <td>8</td>\n",
              "      <td>10</td>\n",
              "      <td>8</td>\n",
              "      <td>21</td>\n",
              "      <td>58</td>\n",
              "      <td>92</td>\n",
              "      <td>142</td>\n",
              "      <td>136</td>\n",
              "      <td>111</td>\n",
              "      <td>109</td>\n",
              "      <td>110</td>\n",
              "      <td>71</td>\n",
              "      <td>450</td>\n",
              "      <td>651</td>\n",
              "      <td>363</td>\n",
              "      <td>330</td>\n",
              "    </tr>\n",
              "    <tr>\n",
              "      <th>407</th>\n",
              "      <td>2021-03-03</td>\n",
              "      <td>28805113</td>\n",
              "      <td>518079</td>\n",
              "      <td>66612.0</td>\n",
              "      <td>1048</td>\n",
              "      <td>486</td>\n",
              "      <td>1230</td>\n",
              "      <td>2</td>\n",
              "      <td>215</td>\n",
              "      <td>203</td>\n",
              "      <td>189</td>\n",
              "      <td>151</td>\n",
              "      <td>115</td>\n",
              "      <td>75</td>\n",
              "      <td>51</td>\n",
              "      <td>23</td>\n",
              "      <td>16</td>\n",
              "      <td>18</td>\n",
              "      <td>16</td>\n",
              "      <td>51</td>\n",
              "      <td>74</td>\n",
              "      <td>116</td>\n",
              "      <td>119</td>\n",
              "      <td>138</td>\n",
              "      <td>156</td>\n",
              "      <td>139</td>\n",
              "      <td>111</td>\n",
              "      <td>128</td>\n",
              "      <td>184</td>\n",
              "      <td>149</td>\n",
              "      <td>184</td>\n",
              "      <td>143</td>\n",
              "    </tr>\n",
              "    <tr>\n",
              "      <th>408</th>\n",
              "      <td>2021-03-04</td>\n",
              "      <td>28872395</td>\n",
              "      <td>520028</td>\n",
              "      <td>67282.0</td>\n",
              "      <td>833</td>\n",
              "      <td>428</td>\n",
              "      <td>961</td>\n",
              "      <td>3</td>\n",
              "      <td>145</td>\n",
              "      <td>123</td>\n",
              "      <td>148</td>\n",
              "      <td>105</td>\n",
              "      <td>91</td>\n",
              "      <td>55</td>\n",
              "      <td>37</td>\n",
              "      <td>24</td>\n",
              "      <td>15</td>\n",
              "      <td>13</td>\n",
              "      <td>10</td>\n",
              "      <td>52</td>\n",
              "      <td>79</td>\n",
              "      <td>112</td>\n",
              "      <td>117</td>\n",
              "      <td>145</td>\n",
              "      <td>89</td>\n",
              "      <td>60</td>\n",
              "      <td>133</td>\n",
              "      <td>112</td>\n",
              "      <td>140</td>\n",
              "      <td>145</td>\n",
              "      <td>129</td>\n",
              "      <td>143</td>\n",
              "    </tr>\n",
              "    <tr>\n",
              "      <th>409</th>\n",
              "      <td>2021-03-05</td>\n",
              "      <td>28938090</td>\n",
              "      <td>522511</td>\n",
              "      <td>65695.0</td>\n",
              "      <td>886</td>\n",
              "      <td>395</td>\n",
              "      <td>946</td>\n",
              "      <td>4</td>\n",
              "      <td>121</td>\n",
              "      <td>119</td>\n",
              "      <td>115</td>\n",
              "      <td>103</td>\n",
              "      <td>73</td>\n",
              "      <td>52</td>\n",
              "      <td>25</td>\n",
              "      <td>34</td>\n",
              "      <td>14</td>\n",
              "      <td>13</td>\n",
              "      <td>13</td>\n",
              "      <td>43</td>\n",
              "      <td>94</td>\n",
              "      <td>127</td>\n",
              "      <td>149</td>\n",
              "      <td>176</td>\n",
              "      <td>148</td>\n",
              "      <td>102</td>\n",
              "      <td>122</td>\n",
              "      <td>117</td>\n",
              "      <td>102</td>\n",
              "      <td>125</td>\n",
              "      <td>116</td>\n",
              "      <td>124</td>\n",
              "    </tr>\n",
              "    <tr>\n",
              "      <th>...</th>\n",
              "      <td>...</td>\n",
              "      <td>...</td>\n",
              "      <td>...</td>\n",
              "      <td>...</td>\n",
              "      <td>...</td>\n",
              "      <td>...</td>\n",
              "      <td>...</td>\n",
              "      <td>...</td>\n",
              "      <td>...</td>\n",
              "      <td>...</td>\n",
              "      <td>...</td>\n",
              "      <td>...</td>\n",
              "      <td>...</td>\n",
              "      <td>...</td>\n",
              "      <td>...</td>\n",
              "      <td>...</td>\n",
              "      <td>...</td>\n",
              "      <td>...</td>\n",
              "      <td>...</td>\n",
              "      <td>...</td>\n",
              "      <td>...</td>\n",
              "      <td>...</td>\n",
              "      <td>...</td>\n",
              "      <td>...</td>\n",
              "      <td>...</td>\n",
              "      <td>...</td>\n",
              "      <td>...</td>\n",
              "      <td>...</td>\n",
              "      <td>...</td>\n",
              "      <td>...</td>\n",
              "      <td>...</td>\n",
              "      <td>...</td>\n",
              "    </tr>\n",
              "    <tr>\n",
              "      <th>575</th>\n",
              "      <td>2021-08-18</td>\n",
              "      <td>37298285</td>\n",
              "      <td>624365</td>\n",
              "      <td>164611.0</td>\n",
              "      <td>821</td>\n",
              "      <td>413</td>\n",
              "      <td>1073</td>\n",
              "      <td>2</td>\n",
              "      <td>109</td>\n",
              "      <td>126</td>\n",
              "      <td>122</td>\n",
              "      <td>74</td>\n",
              "      <td>60</td>\n",
              "      <td>33</td>\n",
              "      <td>27</td>\n",
              "      <td>19</td>\n",
              "      <td>17</td>\n",
              "      <td>13</td>\n",
              "      <td>12</td>\n",
              "      <td>58</td>\n",
              "      <td>113</td>\n",
              "      <td>139</td>\n",
              "      <td>201</td>\n",
              "      <td>167</td>\n",
              "      <td>139</td>\n",
              "      <td>127</td>\n",
              "      <td>139</td>\n",
              "      <td>129</td>\n",
              "      <td>117</td>\n",
              "      <td>129</td>\n",
              "      <td>134</td>\n",
              "      <td>103</td>\n",
              "    </tr>\n",
              "    <tr>\n",
              "      <th>576</th>\n",
              "      <td>2021-08-19</td>\n",
              "      <td>37458037</td>\n",
              "      <td>626099</td>\n",
              "      <td>159752.0</td>\n",
              "      <td>682</td>\n",
              "      <td>329</td>\n",
              "      <td>892</td>\n",
              "      <td>3</td>\n",
              "      <td>101</td>\n",
              "      <td>101</td>\n",
              "      <td>83</td>\n",
              "      <td>66</td>\n",
              "      <td>60</td>\n",
              "      <td>31</td>\n",
              "      <td>31</td>\n",
              "      <td>12</td>\n",
              "      <td>14</td>\n",
              "      <td>17</td>\n",
              "      <td>16</td>\n",
              "      <td>55</td>\n",
              "      <td>76</td>\n",
              "      <td>98</td>\n",
              "      <td>102</td>\n",
              "      <td>122</td>\n",
              "      <td>90</td>\n",
              "      <td>108</td>\n",
              "      <td>109</td>\n",
              "      <td>139</td>\n",
              "      <td>100</td>\n",
              "      <td>116</td>\n",
              "      <td>119</td>\n",
              "      <td>137</td>\n",
              "    </tr>\n",
              "    <tr>\n",
              "      <th>577</th>\n",
              "      <td>2021-08-20</td>\n",
              "      <td>37657643</td>\n",
              "      <td>627631</td>\n",
              "      <td>199606.0</td>\n",
              "      <td>658</td>\n",
              "      <td>399</td>\n",
              "      <td>876</td>\n",
              "      <td>4</td>\n",
              "      <td>59</td>\n",
              "      <td>132</td>\n",
              "      <td>41</td>\n",
              "      <td>73</td>\n",
              "      <td>60</td>\n",
              "      <td>38</td>\n",
              "      <td>24</td>\n",
              "      <td>12</td>\n",
              "      <td>14</td>\n",
              "      <td>8</td>\n",
              "      <td>14</td>\n",
              "      <td>55</td>\n",
              "      <td>97</td>\n",
              "      <td>102</td>\n",
              "      <td>128</td>\n",
              "      <td>129</td>\n",
              "      <td>123</td>\n",
              "      <td>133</td>\n",
              "      <td>95</td>\n",
              "      <td>109</td>\n",
              "      <td>119</td>\n",
              "      <td>135</td>\n",
              "      <td>124</td>\n",
              "      <td>109</td>\n",
              "    </tr>\n",
              "    <tr>\n",
              "      <th>578</th>\n",
              "      <td>2021-08-21</td>\n",
              "      <td>37737034</td>\n",
              "      <td>628100</td>\n",
              "      <td>79391.0</td>\n",
              "      <td>517</td>\n",
              "      <td>316</td>\n",
              "      <td>747</td>\n",
              "      <td>5</td>\n",
              "      <td>101</td>\n",
              "      <td>121</td>\n",
              "      <td>98</td>\n",
              "      <td>73</td>\n",
              "      <td>59</td>\n",
              "      <td>43</td>\n",
              "      <td>19</td>\n",
              "      <td>14</td>\n",
              "      <td>7</td>\n",
              "      <td>11</td>\n",
              "      <td>20</td>\n",
              "      <td>47</td>\n",
              "      <td>64</td>\n",
              "      <td>79</td>\n",
              "      <td>100</td>\n",
              "      <td>108</td>\n",
              "      <td>77</td>\n",
              "      <td>82</td>\n",
              "      <td>53</td>\n",
              "      <td>86</td>\n",
              "      <td>88</td>\n",
              "      <td>70</td>\n",
              "      <td>89</td>\n",
              "      <td>71</td>\n",
              "    </tr>\n",
              "    <tr>\n",
              "      <th>579</th>\n",
              "      <td>2021-08-22</td>\n",
              "      <td>37777607</td>\n",
              "      <td>628285</td>\n",
              "      <td>40573.0</td>\n",
              "      <td>475</td>\n",
              "      <td>292</td>\n",
              "      <td>695</td>\n",
              "      <td>6</td>\n",
              "      <td>101</td>\n",
              "      <td>77</td>\n",
              "      <td>66</td>\n",
              "      <td>67</td>\n",
              "      <td>46</td>\n",
              "      <td>31</td>\n",
              "      <td>12</td>\n",
              "      <td>8</td>\n",
              "      <td>15</td>\n",
              "      <td>29</td>\n",
              "      <td>26</td>\n",
              "      <td>45</td>\n",
              "      <td>60</td>\n",
              "      <td>100</td>\n",
              "      <td>97</td>\n",
              "      <td>100</td>\n",
              "      <td>89</td>\n",
              "      <td>97</td>\n",
              "      <td>94</td>\n",
              "      <td>78</td>\n",
              "      <td>55</td>\n",
              "      <td>65</td>\n",
              "      <td>57</td>\n",
              "      <td>47</td>\n",
              "    </tr>\n",
              "  </tbody>\n",
              "</table>\n",
              "<p>175 rows × 32 columns</p>\n",
              "</div>"
            ],
            "text/plain": [
              "          date     cases  deaths  new_cases  ...  hour_20  hour_21  hour_22  hour_23\n",
              "405 2021-03-01  28680857  514404    56696.0  ...      116      110      105      108\n",
              "406 2021-03-02  28738501  515710    57644.0  ...      450      651      363      330\n",
              "407 2021-03-03  28805113  518079    66612.0  ...      184      149      184      143\n",
              "408 2021-03-04  28872395  520028    67282.0  ...      140      145      129      143\n",
              "409 2021-03-05  28938090  522511    65695.0  ...      102      125      116      124\n",
              "..         ...       ...     ...        ...  ...      ...      ...      ...      ...\n",
              "575 2021-08-18  37298285  624365   164611.0  ...      117      129      134      103\n",
              "576 2021-08-19  37458037  626099   159752.0  ...      100      116      119      137\n",
              "577 2021-08-20  37657643  627631   199606.0  ...      119      135      124      109\n",
              "578 2021-08-21  37737034  628100    79391.0  ...       88       70       89       71\n",
              "579 2021-08-22  37777607  628285    40573.0  ...       55       65       57       47\n",
              "\n",
              "[175 rows x 32 columns]"
            ]
          },
          "metadata": {},
          "execution_count": 22
        }
      ]
    },
    {
      "cell_type": "code",
      "metadata": {
        "id": "V_H6Th8WbmsY"
      },
      "source": [
        "relevant_columns = ['num_positive', 'num_negative', 'num_neutral', 'day_of_week'] + [f'hour_{i}' for i in range(24)]\n",
        "x_data = torch.tensor(covid_df[relevant_columns].values, dtype=torch.float).t()\n",
        "y_data = torch.tensor(covid_df['new_cases'].values, dtype=float).t()"
      ],
      "execution_count": 23,
      "outputs": []
    },
    {
      "cell_type": "code",
      "metadata": {
        "id": "Z7ITLb5lyw1A"
      },
      "source": [
        "x_data_np = x_data.numpy()\n",
        "y_data_np = y_data.numpy()"
      ],
      "execution_count": 24,
      "outputs": []
    },
    {
      "cell_type": "markdown",
      "metadata": {
        "id": "9tV-GslZgDBQ"
      },
      "source": [
        "# Regression using Sentiment Analysis\n",
        "\n",
        "We aggregate sentiment analysis data to contain just numbers of positive, negative and neutral tweets on each day. We then perform linear regression to predict the number of infections on that day."
      ]
    },
    {
      "cell_type": "code",
      "metadata": {
        "id": "LvHUH2o7gGaz",
        "colab": {
          "base_uri": "https://localhost:8080/"
        },
        "outputId": "83685209-fc31-40be-fac7-89aae5e8884d"
      },
      "source": [
        "relevant_columns = ['num_positive', 'num_negative', 'num_neutral']\n",
        "\n",
        "num_cols = len(relevant_columns)  # Postive, Negative, Neutral\n",
        "\n",
        "A = torch.randn((1, num_cols), requires_grad=True)\n",
        "b = torch.randn((1, 1), requires_grad=True)\n",
        "\n",
        "def layer_1(X):\n",
        "    # print(X.shape)\n",
        "    # print(A.shape)\n",
        "    return A.mm(X) + b\n",
        "\n",
        "def mlr_model(X):\n",
        "    return layer_1(X)\n",
        "\n",
        "def loss(y_predicted, y_target):\n",
        "    return torch.sqrt(torch.mean((y_predicted - y_target) ** 2))\n",
        "\n",
        "optimizer = torch.optim.Adam([A, b], lr=0.1)\n",
        "num_epochs = 1000\n",
        "\n",
        "curr_x = torch.tensor(covid_df[relevant_columns].values, dtype=torch.float).t()\n",
        "\n",
        "x_train, x_test = curr_x[:, :int(x_data.shape[1] * 0.8)], curr_x[:, int(x_data.shape[1] * 0.8):]\n",
        "y_train, y_test = y_data[:int(y_data.shape[0] * 0.8)], y_data[int(y_data.shape[0] * 0.8):]\n",
        "\n",
        "with trange(num_epochs, desc=\"Training Multi-variable Linear Regression\") as progress_bar:\n",
        "    for _ in progress_bar:\n",
        "        optimizer.zero_grad()\n",
        "        y_pred = mlr_model(x_train)\n",
        "        curr_loss = loss(y_pred, y_train)\n",
        "        curr_loss.backward()\n",
        "        optimizer.step()\n",
        "        progress_bar.set_postfix(loss=curr_loss.data)\n",
        "        # print(f\"Epoch: {curr_epoch}, Loss: {curr_loss}\")\n"
      ],
      "execution_count": 25,
      "outputs": [
        {
          "output_type": "stream",
          "name": "stderr",
          "text": [
            "Training Multi-variable Linear Regression: 100%|██████████| 1000/1000 [00:06<00:00, 155.71it/s, loss=tensor(16948.0449, dtype=torch.float64)]\n"
          ]
        }
      ]
    },
    {
      "cell_type": "code",
      "metadata": {
        "id": "-1pGL7N9yri9",
        "colab": {
          "base_uri": "https://localhost:8080/",
          "height": 282
        },
        "outputId": "8b67c0cf-6c11-4833-f292-8aaef7fd3546"
      },
      "source": [
        "import matplotlib.pyplot as plt\n",
        "\n",
        "\n",
        "mlr_pred = mlr_model(x_test)[0, :]\n",
        "show_model_performance(mlr_pred, y_test, \"MLR Predicted\")\n",
        "# mlr_pred = mlr_model(x_test)\n",
        "mlr_rmse = loss(mlr_pred, y_test)\n",
        "# plt.plot(covid_df.date, mlr_pred[0, :].detach().numpy(), label=\"MLR Predicted - WITH hour of day\")\n",
        "# # plt.plot(covid_df.date, temp_var, label=\"MLR Predicted - NO hour of day\")\n",
        "# plt.plot(covid_df.date, y_test.detach().numpy(), label=\"Actual Case Numbers\")\n",
        "# plt.legend()\n",
        "# plt.show()"
      ],
      "execution_count": 26,
      "outputs": [
        {
          "output_type": "stream",
          "name": "stdout",
          "text": [
            "(35,)\n"
          ]
        },
        {
          "output_type": "display_data",
          "data": {
            "image/png": "[encoded data removed]",
            "text/plain": [
              "<Figure size 432x288 with 1 Axes>"
            ]
          },
          "metadata": {
            "needs_background": "light"
          }
        }
      ]
    },
    {
      "cell_type": "code",
      "metadata": {
        "id": "yIebWZjuoPKG"
      },
      "source": [
        "mlr_rmse"
      ],
      "execution_count": null,
      "outputs": []
    },
    {
      "cell_type": "markdown",
      "metadata": {
        "id": "2Vfvxdc7S7sM"
      },
      "source": [
        "# Time Series Models"
      ]
    },
    {
      "cell_type": "markdown",
      "metadata": {
        "id": "PaPRC6lp9Oc0"
      },
      "source": [
        "Since new COVID-19 cases is a time series dataset, we try to fit time series models in this section to make predictions."
      ]
    },
    {
      "cell_type": "markdown",
      "metadata": {
        "id": "5y5WoHQuS_LH"
      },
      "source": [
        "## ARIMA"
      ]
    },
    {
      "cell_type": "code",
      "metadata": {
        "id": "-Rsa_BP9dkOh"
      },
      "source": [
        "arima_columns = ['date', 'new_cases']\n",
        "arima_df = covid_df[arima_columns]\n",
        "arima_df['date'] = pd.DatetimeIndex(arima_df['date']).month\n",
        "arima_df = arima_df.set_index('date')\n",
        "X_arima = arima_df.values\n",
        "\n",
        "size_arima = int(len(X_arima) * 0.8)\n",
        "train, test = X_arima[0:size_arima], X_arima[size_arima:len(X_arima)]\n",
        "\n",
        "history = [x for x in train]\n",
        "predictions_arima = list()\n",
        "test = list(test)\n",
        "# # walk-forward validation\n",
        "for t in range(len(test)):\n",
        "\tmodel = ARIMA(history, order=(2,0,2))\n",
        "\tmodel_fit = model.fit()\n",
        "\toutput = model_fit.forecast()\n",
        "\tyhat = output[0]\n",
        "\tpredictions_arima.append(yhat)\n",
        "\tobs = test[t]\n",
        "\thistory.append(obs)\n",
        "\t# print('predicted=%f, expected=%f' % (yhat, obs))"
      ],
      "execution_count": 33,
      "outputs": []
    },
    {
      "cell_type": "code",
      "metadata": {
        "id": "bOiSywaOdqZP",
        "colab": {
          "base_uri": "https://localhost:8080/"
        },
        "outputId": "61c59749-44e8-481c-f8b1-3fae63ca0926"
      },
      "source": [
        "arima_rmse = sqrt(mean_squared_error(test, predictions_arima))\n",
        "print('Test RMSE: %.3f' % arima_rmse)"
      ],
      "execution_count": 34,
      "outputs": [
        {
          "output_type": "stream",
          "name": "stdout",
          "text": [
            "Test RMSE: 58886.607\n"
          ]
        }
      ]
    },
    {
      "cell_type": "code",
      "metadata": {
        "id": "QMjY-1gzdtH3",
        "colab": {
          "base_uri": "https://localhost:8080/",
          "height": 295
        },
        "outputId": "5b38e63f-6f81-416b-a29e-ce44277aa65c"
      },
      "source": [
        "plt.plot(test)\n",
        "plt.plot(predictions_arima, color='red')\n",
        "legend1 = plt.legend([\"actual number of new cases\", \"ARIMA predicted new cases\"], loc=1)\n",
        "labels = ['July', 'August']\n",
        "x = [0, 30]\n",
        "plt.title('ARIMA model')\n",
        "plt.xticks(x, labels)\n",
        "plt.ylabel(\"Number of New Covid Cases\")\n",
        "plt.xlabel(\"Month in 2021\")\n",
        "plt.show()"
      ],
      "execution_count": 35,
      "outputs": [
        {
          "output_type": "display_data",
          "data": {
            "image/png": "[encoded data removed]",
            "text/plain": [
              "<Figure size 432x288 with 1 Axes>"
            ]
          },
          "metadata": {
            "needs_background": "light"
          }
        }
      ]
    },
    {
      "cell_type": "markdown",
      "metadata": {
        "id": "VkgoTgVKTCMB"
      },
      "source": [
        "## OLS"
      ]
    },
    {
      "cell_type": "code",
      "metadata": {
        "id": "c3vhbH_AdwBi",
        "colab": {
          "base_uri": "https://localhost:8080/"
        },
        "outputId": "1b359e4b-c831-4d07-9e7d-51635b8948e5"
      },
      "source": [
        "ols_columns = ['new_cases', 'num_positive', 'num_negative',\n",
        "       'num_neutral', 'day_of_week', 'hour_0', 'hour_1', 'hour_2', 'hour_3',\n",
        "       'hour_4', 'hour_5', 'hour_6', 'hour_7', 'hour_8', 'hour_9', 'hour_10',\n",
        "       'hour_11', 'hour_12', 'hour_13', 'hour_14', 'hour_15', 'hour_16',\n",
        "       'hour_17', 'hour_18', 'hour_19', 'hour_20', 'hour_21', 'hour_22',\n",
        "       'hour_23']\n",
        "ols_df = covid_df[ols_columns]\n",
        "# train_ols, test_ols = train_test_split(ols_df, test_size=0.3)\n",
        "train_ols = ols_df.head(int(0.8*ols_df.shape[0]))\n",
        "test_ols = ols_df.tail(int(0.2*ols_df.shape[0]))\n",
        "print(ols_df.shape)\n",
        "\n",
        "X_train = train_ols[['num_positive', 'num_negative',\n",
        "       'num_neutral', 'day_of_week', 'hour_0', 'hour_1', 'hour_2', 'hour_3',\n",
        "       'hour_4', 'hour_5', 'hour_6', 'hour_7', 'hour_8', 'hour_9', 'hour_10',\n",
        "       'hour_11', 'hour_12', 'hour_13', 'hour_14', 'hour_15', 'hour_16',\n",
        "       'hour_17', 'hour_18', 'hour_19', 'hour_20', 'hour_21', 'hour_22',\n",
        "       'hour_23']].values\n",
        "Y_train = train_ols['new_cases'].values\n",
        "\n",
        "X_test = test_ols[['num_positive', 'num_negative',\n",
        "       'num_neutral', 'day_of_week', 'hour_0', 'hour_1', 'hour_2', 'hour_3',\n",
        "       'hour_4', 'hour_5', 'hour_6', 'hour_7', 'hour_8', 'hour_9', 'hour_10',\n",
        "       'hour_11', 'hour_12', 'hour_13', 'hour_14', 'hour_15', 'hour_16',\n",
        "       'hour_17', 'hour_18', 'hour_19', 'hour_20', 'hour_21', 'hour_22',\n",
        "       'hour_23']].values\n",
        "y_test = test_ols['new_cases'].values\n",
        "\n",
        "X_history_ols = [x for x in X_train]\n",
        "Y_history_ols = [y for y in Y_train]\n",
        "predictions_ols = []\n",
        "for t in range(len(y_test)):\n",
        "    model = OLS(Y_history_ols, X_history_ols).fit()\n",
        "    # print(X_test[t].shape)\n",
        "    pred = model.predict(X_test[t])[0]\n",
        "    truth = y_test[t]\n",
        "    predictions_ols.append(pred)\n",
        "    X_history_ols.append(X_test[t])\n",
        "    Y_history_ols.append(pred)\n",
        "ols_rmse = sqrt(mean_squared_error(y_test, predictions_ols))\n",
        "print('Test RMSE: %.3f' % ols_rmse)"
      ],
      "execution_count": 36,
      "outputs": [
        {
          "output_type": "stream",
          "name": "stdout",
          "text": [
            "(175, 29)\n",
            "Test RMSE: 72963.371\n"
          ]
        }
      ]
    },
    {
      "cell_type": "code",
      "metadata": {
        "id": "GS6W4uPidxrR",
        "colab": {
          "base_uri": "https://localhost:8080/",
          "height": 279
        },
        "outputId": "5e662f94-cd24-488b-f4a7-22a145a74023"
      },
      "source": [
        "# show_model_performance(torch.tensor(predictions_ols), torch.tensor(y_test), \"OLS Predictions\")\n",
        "plt.plot(y_test)\n",
        "plt.plot(predictions_ols, color='red')\n",
        "legend1 = plt.legend([\"actual number of new cases\", \"OLS predicted new cases\"], loc=1)\n",
        "labels = ['July', 'August']\n",
        "x = [0, 30]\n",
        "plt.xticks(x, labels)\n",
        "plt.ylabel(\"Number of New Covid Cases\")\n",
        "plt.xlabel(\"Month in 2021\")\n",
        "plt.show()"
      ],
      "execution_count": 37,
      "outputs": [
        {
          "output_type": "display_data",
          "data": {
            "image/png": "[encoded data removed]",
            "text/plain": [
              "<Figure size 432x288 with 1 Axes>"
            ]
          },
          "metadata": {
            "needs_background": "light"
          }
        }
      ]
    },
    {
      "cell_type": "markdown",
      "metadata": {
        "id": "9ODTgDBYSH7K"
      },
      "source": [
        "## Ensemble Method - ARIMA, OLS"
      ]
    },
    {
      "cell_type": "code",
      "metadata": {
        "id": "VnpO7REtdz9X",
        "colab": {
          "base_uri": "https://localhost:8080/"
        },
        "outputId": "aa13a819-ca25-4a6a-b92d-14e9314386de"
      },
      "source": [
        "X_history_em2 = [x for x in X_train]\n",
        "Y_history_em2 = [y for y in Y_train]\n",
        "\n",
        "model_ARIMA = ARIMA(Y_history_em2, order=(2, 0, 2)).fit()\n",
        "pred_train_ARIMA = model_ARIMA.predict()\n",
        "rmse_train_ARIMA = sqrt(mean_squared_error(Y_history_em2, pred_train_ARIMA))\n",
        "\n",
        "model_OLS = OLS(Y_history_em2, X_history_em2).fit()\n",
        "pred_train_OLS = model_OLS.predict(X_history_em2)\n",
        "rmse_train_OLS = sqrt(mean_squared_error(Y_history_em2, pred_train_OLS))\n",
        "\n",
        "w1 = 1 / rmse_train_ARIMA\n",
        "w2 = 1 / rmse_train_OLS\n",
        "\n",
        "em2_predictions = []\n",
        "for t in range(len(y_test)):\n",
        "    model_OLS = OLS(Y_history_em2, X_history_em2).fit()\n",
        "    pred_OLS = model_OLS.predict(X_test[t])[0]\n",
        "\n",
        "    model_ARIMA = ARIMA(Y_history_em2, order=(2, 0, 2)).fit()\n",
        "    pred_ARIMA = model_ARIMA.forecast()[0]\n",
        "\n",
        "    pred = (w1 * pred_ARIMA + w2 * pred_OLS) / (w1 + w2)\n",
        "    em2_predictions.append(pred)\n",
        "    X_history_em2.append(X_test[t])\n",
        "    Y_history_em2.append(pred)\n",
        "\n",
        "rmse_em2 = sqrt(mean_squared_error(y_test, em2_predictions))\n",
        "print('Test RMSE: %.3f' % rmse_em2)"
      ],
      "execution_count": 38,
      "outputs": [
        {
          "output_type": "stream",
          "name": "stdout",
          "text": [
            "Test RMSE: 78597.784\n"
          ]
        }
      ]
    },
    {
      "cell_type": "code",
      "metadata": {
        "id": "G9bHaZ5nd1sL",
        "colab": {
          "base_uri": "https://localhost:8080/",
          "height": 279
        },
        "outputId": "78c0db42-de8f-445a-c13f-ff78e4567cf3"
      },
      "source": [
        "plt.plot(y_test)\n",
        "plt.plot(em2_predictions, color='red')\n",
        "legend1 = plt.legend([\"actual number of new cases\", \"predicted ARIMA + OLS new cases\"], loc=1)\n",
        "labels = ['July', 'August']\n",
        "x = [0, 30]\n",
        "plt.xticks(x, labels)\n",
        "plt.ylabel(\"Number of New Covid Cases\")\n",
        "plt.xlabel(\"Month in 2021\")\n",
        "plt.show()"
      ],
      "execution_count": 39,
      "outputs": [
        {
          "output_type": "display_data",
          "data": {
            "image/png": "[encoded data removed]",
            "text/plain": [
              "<Figure size 432x288 with 1 Axes>"
            ]
          },
          "metadata": {
            "needs_background": "light"
          }
        }
      ]
    },
    {
      "cell_type": "markdown",
      "metadata": {
        "id": "-9Zx0zV06L92"
      },
      "source": [
        "## Ensemble Method - Linear Regression with Time Series Models\n",
        "\n",
        "We run another experiment to check how would the time series models perform with the previously-tried linear regression model."
      ]
    },
    {
      "cell_type": "code",
      "metadata": {
        "id": "XqOV66R-6Qq9"
      },
      "source": [
        "arima_columns = ['date', 'new_cases']\n",
        "arima_df = covid_df[arima_columns]\n",
        "arima_df['date'] = pd.DatetimeIndex(arima_df['date']).month\n",
        "arima_df = arima_df.set_index('date')\n",
        "X_arima = arima_df.values\n",
        "\n",
        "size_arima = int(len(X_arima) * 0.7)\n",
        "arima_train, test = X_arima[0:size_arima], X_arima[size_arima:len(X_arima)]\n",
        "X_history_ols, X_test = x_data[: size_arima], x_data[size_arima:]\n",
        "\n",
        "curr_x = torch.tensor(covid_df[relevant_columns].values, dtype=torch.float).t()\n",
        "\n",
        "data_received = list(curr_x[:, :size_arima].numpy().T)\n",
        "data_hidden = curr_x[:, size_arima:].numpy().T\n",
        "\n",
        "history = list(Y_train[:size_arima])\n",
        "test = list(test)\n",
        "\n",
        "predictions = []\n",
        "# # walk-forward validation\n",
        "for t in range(len(test)):\n",
        "\tmodel = ARIMA(history, order=(2,0,2))\n",
        "\tmodel_fit = model.fit()\n",
        "\tarima_pred = model_fit.forecast()[0][0]\n",
        "\n",
        "\tmodel = OLS(history, data_received).fit()\n",
        "\t# print(data_hidden[t].shape)\n",
        "\tols_pred = model.predict(data_hidden[t])[0]\n",
        "\tif isinstance(ols_pred, np.ndarray):\n",
        "\t\tols_pred = ols_pred[0]\n",
        "\n",
        "\tmlr_pred = mlr_model(torch.Tensor([data_hidden[t]]).t())\n",
        "\t\n",
        "\t# print((1 / arima_rmse) * arima_pred)\n",
        "\t# print(ols_pred)\n",
        "\t\n",
        "\tfinal_pred = ((1 / arima_rmse) * arima_pred + (1 / ols_rmse) * ols_pred + (1 / mlr_rmse) * mlr_pred) / (1 / arima_rmse + 1 / ols_rmse + 1 / mlr_rmse)\n",
        "\t# final_pred = ((1 / ols_rmse) * ols_pred + (1 / mlr_rmse) * mlr_pred) / (1 / ols_rmse + 1 / mlr_rmse)\n",
        "\n",
        "\tobs = test[t]\n",
        "\thistory.append(obs)\n",
        "\tdata_received.append(data_hidden[t])\n",
        " \n",
        "\tpredictions.append(final_pred)\n",
        "\t# print('predicted=%f, expected=%f' % (final_pred, obs))\n"
      ],
      "execution_count": 40,
      "outputs": []
    },
    {
      "cell_type": "code",
      "metadata": {
        "id": "Cdi9rzupMuPr",
        "colab": {
          "base_uri": "https://localhost:8080/",
          "height": 282
        },
        "outputId": "ef4409fc-1f24-47f1-f236-30a99142b614"
      },
      "source": [
        "# print(len(predictions))\n",
        "# print(len(test))\n",
        "show_model_performance(torch.tensor(predictions), torch.tensor(test), \"Ensemble Predictions\")"
      ],
      "execution_count": 41,
      "outputs": [
        {
          "output_type": "stream",
          "name": "stdout",
          "text": [
            "(53,)\n"
          ]
        },
        {
          "output_type": "display_data",
          "data": {
            "image/png": "[encoded data removed]",
            "text/plain": [
              "<Figure size 432x288 with 1 Axes>"
            ]
          },
          "metadata": {
            "needs_background": "light"
          }
        }
      ]
    },
    {
      "cell_type": "code",
      "metadata": {
        "id": "9LLmUm-cKcHn",
        "colab": {
          "base_uri": "https://localhost:8080/"
        },
        "outputId": "8ebca60b-ec16-4fa6-8c7c-1a3e4a4b8244"
      },
      "source": [
        "ensemble_rmse = loss(torch.tensor(predictions), torch.tensor(test))\n",
        "ensemble_rmse"
      ],
      "execution_count": 42,
      "outputs": [
        {
          "output_type": "execute_result",
          "data": {
            "text/plain": [
              "tensor(72121.0149, dtype=torch.float64)"
            ]
          },
          "metadata": {},
          "execution_count": 42
        }
      ]
    },
    {
      "cell_type": "markdown",
      "metadata": {
        "id": "Js-T_3ps85dp"
      },
      "source": [
        "# Neural Network with Tweet Metadata and Sentiment Analysis Data"
      ]
    },
    {
      "cell_type": "code",
      "metadata": {
        "id": "Dck9YufG1qOK",
        "colab": {
          "base_uri": "https://localhost:8080/"
        },
        "outputId": "79eec1ab-5b2f-4ad1-db4b-785b945ae326"
      },
      "source": [
        "relevant_columns = ['num_positive', 'num_negative', 'num_neutral', 'day_of_week'] + [f'hour_{i}' for i in range(24)]\n",
        "\n",
        "num_cols = len(relevant_columns)  # Postive, Negative, Neutral\n",
        "\n",
        "A = torch.randn((20, num_cols), requires_grad=True)\n",
        "b = torch.randn((20, 1), requires_grad=True)\n",
        "C = torch.randn((1, 20), requires_grad=True)\n",
        "d = torch.randn(1, requires_grad=True)\n",
        "\n",
        "max_num = 0\n",
        "\n",
        "def layer_1(X):\n",
        "    # print(X.shape)\n",
        "    # print(A.shape)\n",
        "    return A.mm(X) + b\n",
        "\n",
        "def layer_2(X):\n",
        "    return C.mm(X) + d\n",
        "\n",
        "def mlr_model(X):\n",
        "    return layer_2(layer_1(X))\n",
        "\n",
        "def loss(y_predicted, y_target):\n",
        "    return torch.sqrt(torch.mean((y_predicted - y_target) ** 2))\n",
        "\n",
        "def predict(X):\n",
        "    initial_prediction = layer_2(layer_1(X))\n",
        "    initial_prediction[initial_prediction < 0] = 0\n",
        "    initial_prediction[initial_prediction > max_num + 50000] = max_num + 50000\n",
        "    return initial_prediction\n",
        "\n",
        "def reset_model():\n",
        "    A = torch.randn((20, num_cols), requires_grad=True)\n",
        "    b = torch.randn((20, 1), requires_grad=True)\n",
        "    C = torch.randn((1, 20), requires_grad=True)\n",
        "    d = torch.randn(1, requires_grad=True)\n",
        "    max_num = 0\n",
        "\n",
        "optimizer = torch.optim.Adam([A, b], lr=0.1)\n",
        "num_epochs = 10\n",
        "rolling_options = [7]\n",
        "rolling_window_length = 21\n",
        "forecast_options = [7]\n",
        "forecast_window = 7\n",
        "\n",
        "x_train, x_test = x_data[:, :int(x_data.shape[1] * 0.8)], x_data[:, int(x_data.shape[1] * 0.8):]\n",
        "y_train, y_test = y_data[:int(y_data.shape[0] * 0.8)], y_data[int(y_data.shape[0] * 0.8):]\n",
        "\n",
        "curr_loss = 0\n",
        "num_items = 0\n",
        "\n",
        "prediction_tracker = {}\n",
        "target_y_tracker = {}\n",
        "loss_tracker = {}\n",
        "\n",
        "for rolling_window_length, forecast_window in list(itertools.product(rolling_options, forecast_options)):\n",
        "    target_y = []\n",
        "    predictions = []\n",
        "    with trange(x_data.shape[1] - rolling_window_length - 2 * forecast_window - 1, desc=\"Training 21-day rolling MLR\") as main_bar:\n",
        "        # main_bar.set_postfix(rolling_window_length=rolling_window_length, forecast_window=forecast_window)\n",
        "        for start_idx in main_bar:\n",
        "            reset_model()\n",
        "            curr_x = x_data[:, start_idx: start_idx + rolling_window_length]\n",
        "            curr_y = y_data[start_idx + forecast_window: start_idx + forecast_window + rolling_window_length]\n",
        "            # with trange(num_epochs, desc=\"Training Multi-variable Linear Regression\") as progress_bar:\n",
        "                # for _ in progress_bar:\n",
        "            for _ in range(num_epochs):\n",
        "                max_num = max(curr_y)\n",
        "                optimizer.zero_grad()\n",
        "                y_pred = mlr_model(curr_x)\n",
        "                curr_loss = loss(y_pred, curr_y)\n",
        "                curr_loss.backward()\n",
        "                optimizer.step()\n",
        "                # progress_bar.set_postfix(loss=curr_loss.data)\n",
        "                # print(f\"Epoch: {curr_epoch}, Loss: {curr_loss}\")\n",
        "            curr_pred = predict(x_data[:, start_idx + rolling_window_length + forecast_window: start_idx + rolling_window_length + forecast_window + 1])\n",
        "            predictions.append(curr_pred[0])\n",
        "            target_y.append(y_data[start_idx + 2 * forecast_window + rolling_window_length: start_idx + 2 * forecast_window + rolling_window_length + 1])\n",
        "            overall_loss = loss(torch.tensor(predictions), torch.tensor(target_y))\n",
        "            main_bar.set_postfix(loss=overall_loss, rolling_window_length=rolling_window_length, forecast_window=forecast_window)\n",
        "    prediction_tracker[(rolling_window_length, forecast_window)] = predictions\n",
        "    target_y_tracker[(rolling_window_length, forecast_window)] = target_y\n",
        "    loss_tracker[(rolling_window_length, forecast_window)] = overall_loss\n"
      ],
      "execution_count": 28,
      "outputs": [
        {
          "output_type": "stream",
          "name": "stderr",
          "text": [
            "Training 21-day rolling MLR: 100%|██████████| 153/153 [00:02<00:00, 63.86it/s, forecast_window=7, loss=tensor(23975.8750, dtype=torch.float64), rolling_window_length=7]\n"
          ]
        }
      ]
    },
    {
      "cell_type": "code",
      "metadata": {
        "id": "fT7uskQ36zl_",
        "colab": {
          "base_uri": "https://localhost:8080/",
          "height": 282
        },
        "outputId": "9de10f5a-7b93-4546-ec1e-37c93e5ba70e"
      },
      "source": [
        "qualifying_entry = (7, 7)\n",
        "predictions = prediction_tracker[qualifying_entry]\n",
        "target_y = target_y_tracker[qualifying_entry]\n",
        "\n",
        "show_model_performance(torch.tensor(predictions), torch.tensor(target_y), \"TweetCaster Predicted\")"
      ],
      "execution_count": 29,
      "outputs": [
        {
          "output_type": "stream",
          "name": "stdout",
          "text": [
            "(153,)\n"
          ]
        },
        {
          "output_type": "display_data",
          "data": {
            "image/png": "[encoded data removed]",
            "text/plain": [
              "<Figure size 432x288 with 1 Axes>"
            ]
          },
          "metadata": {
            "needs_background": "light"
          }
        }
      ]
    },
    {
      "cell_type": "code",
      "metadata": {
        "id": "W4sKVLoYN75v",
        "colab": {
          "base_uri": "https://localhost:8080/",
          "height": 282
        },
        "outputId": "8cffb1d6-a0a4-4c87-e51b-b6285cf3be19"
      },
      "source": [
        "rolling_mean = covid_df['new_cases'].rolling(window=14).mean()\n",
        "pred_df = pd.DataFrame(predictions).rolling(window=7).mean()\n",
        "target_df = pd.DataFrame(target_y).rolling(window=7).mean()\n",
        "pred_moving_avg_values = torch.tensor(pred_df.values)\n",
        "target_moving_avg_values = torch.tensor(target_df.values)\n",
        "show_model_performance(pred_moving_avg_values, target_moving_avg_values, \"TweetCaster Predicted\")"
      ],
      "execution_count": 30,
      "outputs": [
        {
          "output_type": "stream",
          "name": "stdout",
          "text": [
            "(153,)\n"
          ]
        },
        {
          "output_type": "display_data",
          "data": {
            "image/png": "[encoded data removed]",
            "text/plain": [
              "<Figure size 432x288 with 1 Axes>"
            ]
          },
          "metadata": {
            "needs_background": "light"
          }
        }
      ]
    },
    {
      "cell_type": "markdown",
      "metadata": {
        "id": "DZZ5jgDeZ2Y-"
      },
      "source": [
        "# Tweet Vectorization"
      ]
    },
    {
      "cell_type": "markdown",
      "metadata": {
        "id": "37ULi1brRRgN"
      },
      "source": [
        "This section covers experiments we run with tweet vectorization. The general idea is to check how does the information about the tweets themselves along with their metadata affect the predictions generated.\n",
        "\n",
        "This section also tests how do the different types of encodings affect the kind of results produced. The ones we test in our work include,\n",
        "\n",
        "1. TF-IDF with 200 features\n",
        "2. TF-IDF with 500 features\n",
        "3. BERTweet"
      ]
    },
    {
      "cell_type": "markdown",
      "metadata": {
        "id": "7EaDIDkzSGVx"
      },
      "source": [
        "Note: You may change the MAX_FEATURES variable to change the number of features that TF-IDF encoding generates."
      ]
    },
    {
      "cell_type": "code",
      "metadata": {
        "id": "FFJH1SW0aJbb"
      },
      "source": [
        "# Parameter for TF-IDF vectorization\n",
        "MAX_FEATURES = 200\n",
        "# 1. TF-IDF vectorization using TweetTokenizer (ABANDONED)\n",
        "def tfidf_vectorization_tweet_tokenizer(df, max_features):\n",
        "    tt = TweetTokenizer(preserve_case=False)\n",
        "    vector = TfidfVectorizer(\n",
        "        sublinear_tf=True,\n",
        "        max_features=max_features,\n",
        "        token_pattern=u'(?ui)\\\\b\\\\w*[a-z]+\\\\w*\\\\b',\n",
        "        tokenizer=tt.tokenize\n",
        "    )\n",
        "    X = vector.fit_transform(df['text'].values)\n",
        "    X_col = vector.get_feature_names()\n",
        "    feature_df = pd.DataFrame.sparse.from_spmatrix(X, columns=X_col)\n",
        "    # feature_df['tweet_id'] = df['tweet_id']\n",
        "    return feature_df\n",
        "\n",
        "# Vectorized tweet using TF-IDF\n",
        "vectorized_df = tfidf_vectorization_tweet_tokenizer(usa_2021_agg_df, MAX_FEATURES)"
      ],
      "execution_count": 31,
      "outputs": []
    },
    {
      "cell_type": "code",
      "metadata": {
        "id": "9TxnLvxpdK3b",
        "colab": {
          "base_uri": "https://localhost:8080/",
          "height": 0,
          "referenced_widgets": [
            "7e5e7f59220745b4a7ad08cb53eb6e41",
            "2a38cc5519154b7b9d161239e646df94",
            "b57e5f6a39cd476296c1404444abae8b",
            "43ec8e27f3f143b2a5b25d3d403cc012",
            "5bb424a75eca49c3984de1adbd936c90",
            "40573c5a051b4f9f967777978c3693e0",
            "4c9972fd403d438dbe83a85b61b76565",
            "6dfe3e29325e4c3c97360d12f09b959b",
            "399d7dca990e42188bc27e06197af6cf",
            "c83776e76fde4e168188daf40962664c",
            "44fc7c1a488645bb881e86f501c13d52",
            "169f9002d9914c4ab31eee3db7d86cce",
            "b26be8bd1aff47a9a1b19990ebc9bb26",
            "bb425600d7ed413695e4e12127bdb40f",
            "686c0dc434b74693953c3b0809b66a72",
            "66a13665161e42c3abce709bb6ec2ded",
            "2d9f78f0a34147c28a614d6e9fa200c1",
            "dd88cf1c8bad44d9927af1d4be20832e",
            "79096090671040069f48a6f81c80e529",
            "d0329bb6337e43eeaf4aad0ef6f36e70",
            "9e71352678814143a83e2ba0852e8e86",
            "2adc0d0f66654381a88646a28a175bff",
            "6a808de84540444997d780536402fa3b",
            "3048ac21536b44e6a79e31fc322073f0",
            "8397813549c44122ba724d7176feeda0",
            "50ad9c4b4420478c9d4eab4a1c74478a",
            "099a3d5711504c03b92cda10fe1995a4",
            "e3da75c7e7854301b7fe089ed31f6bdb",
            "e510ed51310043b08425e466db907bf0",
            "740cc07c3d6246a6b95acda47625a429",
            "22a95690145e4188b10bcdf5349c1a7b",
            "204eb0f89c814903b185e2c40a3f5101",
            "d4ce8db0d7e94625a6e75a720d410650",
            "fdd19a44361e46d99d83852ab332bc42",
            "2fecd76cef6941a8b58faf57809d09db",
            "622e97dbbaa448499de6c881ed34778f",
            "ef4093d7f8644a7e8d3b4d7eaa915fe3",
            "6ace6ce47b9443a7bd01218ea413fa11",
            "023c04b5f49b45ef80471b009db128ff",
            "a57d949742fb45018729d043576539af",
            "e2c19b7728dd4c80b047d015a83f41a3",
            "65995a15d3b94a98a05453c3cb1b8289",
            "330331c1bb7b4bb6bcb628ae5fcf534c",
            "64661e1a950244379e40992e6378f713"
          ]
        },
        "outputId": "6d195cc2-4c79-41ec-8c8e-dee2760c612d"
      },
      "source": [
        "# 2. BERT\n",
        "def mean_pooling(model_output, attention_mask):\n",
        "    token_embeddings = model_output[0]\n",
        "    input_mask_expanded = attention_mask.unsqueeze(-1).expand(token_embeddings.size()).float()\n",
        "    return torch.sum(token_embeddings * input_mask_expanded, 1) / torch.clamp(input_mask_expanded.sum(1), min=1e-9)\n",
        "\n",
        "def bert_vectorization(df, pre_trained_model):\n",
        "    feature_df = pd.DataFrame()\n",
        "    # feature_df['day_of_week'] = df['day_of_week']\n",
        "    # feature_df['hour_of_day'] = df['hour_of_day']\n",
        "\n",
        "    tokenizer = AutoTokenizer.from_pretrained(pre_trained_model, normalization=True)\n",
        "    model = AutoModel.from_pretrained(pre_trained_model)\n",
        "    sentences = list(df['text'].values)\n",
        "\n",
        "    encoded_input = tokenizer(sentences, padding=True, truncation=True, return_tensors='pt')\n",
        "    with torch.no_grad():\n",
        "        model_output = model(**encoded_input)\n",
        "    \n",
        "    embeddings = mean_pooling(model_output, encoded_input['attention_mask'])\n",
        "    return embeddings\n",
        "\n",
        "    # feature_df['vector'] = list(embeddings)\n",
        "    # return feature_df\n",
        "\n",
        "BERTWEET_PRE_TRAINED = 'vinai/bertweet-base'\n",
        "vectorized_emb = bert_vectorization(usa_2021_agg_df, BERTWEET_PRE_TRAINED)"
      ],
      "execution_count": 32,
      "outputs": [
        {
          "output_type": "display_data",
          "data": {
            "application/vnd.jupyter.widget-view+json": {
              "model_id": "7e5e7f59220745b4a7ad08cb53eb6e41",
              "version_minor": 0,
              "version_major": 2
            },
            "text/plain": [
              "Downloading:   0%|          | 0.00/558 [00:00<?, ?B/s]"
            ]
          },
          "metadata": {}
        },
        {
          "output_type": "display_data",
          "data": {
            "application/vnd.jupyter.widget-view+json": {
              "model_id": "169f9002d9914c4ab31eee3db7d86cce",
              "version_minor": 0,
              "version_major": 2
            },
            "text/plain": [
              "Downloading:   0%|          | 0.00/824k [00:00<?, ?B/s]"
            ]
          },
          "metadata": {}
        },
        {
          "output_type": "display_data",
          "data": {
            "application/vnd.jupyter.widget-view+json": {
              "model_id": "6a808de84540444997d780536402fa3b",
              "version_minor": 0,
              "version_major": 2
            },
            "text/plain": [
              "Downloading:   0%|          | 0.00/1.03M [00:00<?, ?B/s]"
            ]
          },
          "metadata": {}
        },
        {
          "output_type": "stream",
          "name": "stderr",
          "text": [
            "Special tokens have been added in the vocabulary, make sure the associated word embeddings are fine-tuned or trained.\n"
          ]
        },
        {
          "output_type": "display_data",
          "data": {
            "application/vnd.jupyter.widget-view+json": {
              "model_id": "fdd19a44361e46d99d83852ab332bc42",
              "version_minor": 0,
              "version_major": 2
            },
            "text/plain": [
              "Downloading:   0%|          | 0.00/517M [00:00<?, ?B/s]"
            ]
          },
          "metadata": {}
        },
        {
          "output_type": "stream",
          "name": "stderr",
          "text": [
            "Some weights of the model checkpoint at vinai/bertweet-base were not used when initializing RobertaModel: ['lm_head.decoder.bias', 'lm_head.decoder.weight', 'lm_head.bias', 'lm_head.dense.bias', 'lm_head.layer_norm.bias', 'lm_head.layer_norm.weight', 'lm_head.dense.weight']\n",
            "- This IS expected if you are initializing RobertaModel from the checkpoint of a model trained on another task or with another architecture (e.g. initializing a BertForSequenceClassification model from a BertForPreTraining model).\n",
            "- This IS NOT expected if you are initializing RobertaModel from the checkpoint of a model that you expect to be exactly identical (initializing a BertForSequenceClassification model from a BertForSequenceClassification model).\n"
          ]
        }
      ]
    },
    {
      "cell_type": "markdown",
      "metadata": {
        "id": "Quos28cyFeCg"
      },
      "source": [
        "# Neural Network with Tweet Encodings"
      ]
    },
    {
      "cell_type": "code",
      "metadata": {
        "id": "oQ32UPJqzhLv",
        "colab": {
          "base_uri": "https://localhost:8080/"
        },
        "outputId": "365ae2dd-4187-4953-8e57-5396b80e0d4d"
      },
      "source": [
        "num_cols = 768  # Postive, Negative, Neutral\n",
        "\n",
        "A = torch.randn((20, num_cols), requires_grad=True)\n",
        "b = torch.randn((20, 1), requires_grad=True)\n",
        "C = torch.randn((1, 20), requires_grad=True)\n",
        "d = torch.randn(1, requires_grad=True)\n",
        "\n",
        "def layer_1(X):\n",
        "    # print(A.shape)\n",
        "    # print(X.shape)\n",
        "    # print(b.shape)\n",
        "    return A.mm(X) + b\n",
        "\n",
        "def layer_2(X):\n",
        "    return C.mm(X) + d\n",
        "\n",
        "def mlr_model(X):\n",
        "    return layer_2(layer_1(X))\n",
        "\n",
        "def loss(y_predicted, y_target):\n",
        "    return torch.sqrt(torch.mean((y_predicted - y_target) ** 2))\n",
        "\n",
        "def predict(X):\n",
        "    initial_prediction = layer_2(layer_1(X))\n",
        "    initial_prediction[initial_prediction < 0] = 0\n",
        "    initial_prediction[initial_prediction > max_num + 50000] = max_num + 50000\n",
        "    return initial_prediction\n",
        "\n",
        "def reset_model():\n",
        "    A = torch.randn((20, num_cols), requires_grad=True)\n",
        "    b = torch.randn((20, 1), requires_grad=True)\n",
        "    C = torch.randn((1, 20), requires_grad=True)\n",
        "    d = torch.randn(1, requires_grad=True)\n",
        "    max_num = 0\n",
        "\n",
        "optimizer = torch.optim.Adam([A, b], lr=0.1)\n",
        "num_epochs = 500\n",
        "rolling_options = [7]\n",
        "rolling_window_length = 21\n",
        "forecast_options = [7]\n",
        "forecast_window = 7\n",
        "\n",
        "overall_x = vectorized_emb.t()[:, -175:-7]\n",
        "overall_y = y_data.t()[7:]\n",
        "\n",
        "curr_loss = 0\n",
        "num_items = 0\n",
        "\n",
        "prediction_tracker = {}\n",
        "target_y_tracker = {}\n",
        "loss_tracker = {}\n",
        "\n",
        "for rolling_window_length, forecast_window in list(itertools.product(rolling_options, forecast_options)):\n",
        "    target_y = []\n",
        "    predictions = []\n",
        "    with trange(overall_x.shape[1] - rolling_window_length - 2 * forecast_window - 1, desc=\"Training 21-day rolling MLR\") as main_bar:\n",
        "        # main_bar.set_postfix(rolling_window_length=rolling_window_length, forecast_window=forecast_window)\n",
        "        for start_idx in main_bar:\n",
        "            reset_model()\n",
        "            curr_x = overall_x[:, start_idx: start_idx + rolling_window_length]\n",
        "            curr_y = overall_y[start_idx + forecast_window: start_idx + forecast_window + rolling_window_length]\n",
        "            # with trange(num_epochs, desc=\"Training Multi-variable Linear Regression\") as progress_bar:\n",
        "                # for _ in progress_bar:\n",
        "            for _ in range(num_epochs):\n",
        "                max_num = max(curr_y)\n",
        "                optimizer.zero_grad()\n",
        "                y_pred = mlr_model(curr_x)\n",
        "                curr_loss = loss(y_pred, curr_y)\n",
        "                curr_loss.backward()\n",
        "                optimizer.step()\n",
        "                # progress_bar.set_postfix(loss=curr_loss.data)\n",
        "                # print(f\"Epoch: {curr_epoch}, Loss: {curr_loss}\")\n",
        "            curr_pred = predict(overall_x[:, start_idx + rolling_window_length + forecast_window: start_idx + rolling_window_length + forecast_window + 1])\n",
        "            predictions.append(curr_pred[0])\n",
        "            target_y.append(overall_y[start_idx + 2 * forecast_window + rolling_window_length: start_idx + 2 * forecast_window + rolling_window_length + 1])\n",
        "            overall_loss = loss(torch.tensor(predictions), torch.tensor(target_y))\n",
        "            main_bar.set_postfix(loss=overall_loss, rolling_window_length=rolling_window_length, forecast_window=forecast_window)\n",
        "    prediction_tracker[(rolling_window_length, forecast_window)] = predictions\n",
        "    target_y_tracker[(rolling_window_length, forecast_window)] = target_y\n",
        "    loss_tracker[(rolling_window_length, forecast_window)] = overall_loss\n",
        "\n",
        "\n",
        "\n",
        "# optimizer = torch.optim.Adam([A, b], lr=0.1)\n",
        "# num_epochs = 5000\n",
        "\n",
        "# x_train, x_test = x_data[:, :int(x_data.shape[1] * 0.8)], x_data[:, int(x_data.shape[1] * 0.8):]\n",
        "# y_train, y_test = y_data[:int(y_data.shape[0] * 0.8)], y_data[int(y_data.shape[0] * 0.8):]\n",
        "# overall_x = vectorized_emb.t()[:, -175:-7]\n",
        "# overall_y = y_data.t()[7:]\n",
        "# x_train, x_test = overall_x[:, :int(0.8 * overall_x.shape[1])], overall_x[:, int(0.8 * overall_x.shape[1]):]\n",
        "# y_train, y_test = overall_y[:int(0.8 * overall_x.shape[1])], overall_y[int(0.8 * overall_x.shape[1]):]\n",
        "\n",
        "# with trange(num_epochs, desc=\"Training Multi-variable Linear Regression\") as progress_bar:\n",
        "#     for _ in progress_bar:\n",
        "#         optimizer.zero_grad()\n",
        "#         y_pred = mlr_model(x_train)\n",
        "#         curr_loss = loss(y_pred, y_train)\n",
        "#         curr_loss.backward()\n",
        "#         optimizer.step()\n",
        "#         progress_bar.set_postfix(loss=curr_loss.data)\n",
        "#         # print(f\"Epoch: {curr_epoch}, Loss: {curr_loss}\")\n"
      ],
      "execution_count": 43,
      "outputs": [
        {
          "output_type": "stream",
          "name": "stderr",
          "text": [
            "Training 21-day rolling MLR: 100%|██████████| 146/146 [00:58<00:00,  2.49it/s, forecast_window=7, loss=tensor(36177.2300, dtype=torch.float64), rolling_window_length=7]\n"
          ]
        }
      ]
    },
    {
      "cell_type": "code",
      "metadata": {
        "id": "2BBtoX640pLf",
        "colab": {
          "base_uri": "https://localhost:8080/",
          "height": 0
        },
        "outputId": "6865abf0-54dc-4601-9879-7a71ab4d2977"
      },
      "source": [
        "qualifying_entry = (7, 7)\n",
        "predictions = prediction_tracker[qualifying_entry]\n",
        "target_y = target_y_tracker[qualifying_entry]\n",
        "\n",
        "show_model_performance(torch.tensor(predictions), torch.tensor(target_y), \"PlainTweet Predictions\")"
      ],
      "execution_count": 44,
      "outputs": [
        {
          "output_type": "stream",
          "name": "stdout",
          "text": [
            "(146,)\n"
          ]
        },
        {
          "output_type": "display_data",
          "data": {
            "image/png": "[encoded data removed]",
            "text/plain": [
              "<Figure size 432x288 with 1 Axes>"
            ]
          },
          "metadata": {
            "needs_background": "light"
          }
        }
      ]
    },
    {
      "cell_type": "code",
      "metadata": {
        "id": "7yvqs7BS-ydp",
        "colab": {
          "base_uri": "https://localhost:8080/",
          "height": 0
        },
        "outputId": "a62ebfc1-278c-403c-8eb1-1728782dcde8"
      },
      "source": [
        "rolling_mean = covid_df['new_cases'].rolling(window=14).mean()\n",
        "pred_df = pd.DataFrame(predictions).rolling(window=7).mean()\n",
        "target_df = pd.DataFrame(target_y).rolling(window=7).mean()\n",
        "pred_moving_avg_values = torch.tensor(pred_df.values)\n",
        "target_moving_avg_values = torch.tensor(target_df.values)\n",
        "show_model_performance(pred_moving_avg_values, target_moving_avg_values, \"PlainTweet Predictions\")"
      ],
      "execution_count": 45,
      "outputs": [
        {
          "output_type": "stream",
          "name": "stdout",
          "text": [
            "(146,)\n"
          ]
        },
        {
          "output_type": "display_data",
          "data": {
            "image/png": "[encoded data removed]",
            "text/plain": [
              "<Figure size 432x288 with 1 Axes>"
            ]
          },
          "metadata": {
            "needs_background": "light"
          }
        }
      ]
    },
    {
      "cell_type": "markdown",
      "metadata": {
        "id": "WaVJOelEYn_r"
      },
      "source": [
        "# TweetCaster: Neural Network with Tweet Encodings, Metadata and Sentiment Analysis Data\n",
        "\n",
        "Currently assumes the vectorized tweets along with sentiment values as inputs. Note that the sentiment must be represented by an integer."
      ]
    },
    {
      "cell_type": "markdown",
      "metadata": {
        "id": "44l0is-YTx76"
      },
      "source": [
        "This section focuses on training the neural network to be able to predict the number of new COVID-19 cases seven days in the future. Please be sure to update the DIM_FEATURES before using this function. It must be set to the number of features + 28, if using TF-IDF, or 796, if using BERTweet.\n",
        "\n",
        "Also, if you use BERTweet, please comment out line 4 in the code block below and un-comment line 5. If you use TF-IDF, please comment out line 5 in the code block below and un-comment line 4."
      ]
    },
    {
      "cell_type": "code",
      "metadata": {
        "id": "vtaCLMQwGgjK",
        "colab": {
          "base_uri": "https://localhost:8080/"
        },
        "outputId": "b0944cb9-99e7-4040-d3f3-456337b27a71"
      },
      "source": [
        "DIM_FEATURES = 796\n",
        "num_cols = DIM_FEATURES\n",
        "\n",
        "# combined_x = torch.vstack((torch.from_numpy(vectorized_df.values).float()[-x_data.shape[1]:, :].t(), x_data))  # if using TF-IDF, comment if using BERTweet\n",
        "combined_x = torch.vstack((vectorized_emb.float()[-x_data.shape[1]:, :].t(), x_data))  # if using BERTweet, comment if using TF-IDF\n",
        "\n",
        "A = torch.randn((20, num_cols), requires_grad=True)\n",
        "b = torch.randn((20, 1), requires_grad=True)\n",
        "C = torch.randn((1, 20), requires_grad=True)\n",
        "d = torch.randn(1, requires_grad=True)\n",
        "\n",
        "def layer_1(X):\n",
        "    # print(A.shape)\n",
        "    # print(X.shape)\n",
        "    # print(b.shape)\n",
        "    return A.mm(X) + b\n",
        "\n",
        "def layer_2(X):\n",
        "    return C.mm(X) + d\n",
        "\n",
        "def mlr_model(X):\n",
        "    return layer_2(layer_1(X))\n",
        "\n",
        "def loss(y_predicted, y_target):\n",
        "    return torch.sqrt(torch.mean((y_predicted - y_target) ** 2))\n",
        "\n",
        "def predict(X):\n",
        "    initial_prediction = layer_2(layer_1(X))\n",
        "    initial_prediction[initial_prediction < 0] = 0\n",
        "    initial_prediction[initial_prediction > max_num + 50000] = max_num + 50000\n",
        "    return initial_prediction\n",
        "\n",
        "def reset_model():\n",
        "    A = torch.randn((20, num_cols), requires_grad=True)\n",
        "    b = torch.randn((20, 1), requires_grad=True)\n",
        "    C = torch.randn((1, 20), requires_grad=True)\n",
        "    d = torch.randn(1, requires_grad=True)\n",
        "    max_num = 0\n",
        "\n",
        "optimizer = torch.optim.Adam([A, b], lr=0.1)\n",
        "num_epochs = 10\n",
        "rolling_options = [7, 14, 21, 28]\n",
        "rolling_window_length = 21\n",
        "forecast_options = [7]\n",
        "forecast_window = 7\n",
        "\n",
        "overall_x = combined_x[:, -175:-7]\n",
        "overall_y = y_data.t()[7:]\n",
        "\n",
        "curr_loss = 0\n",
        "num_items = 0\n",
        "\n",
        "prediction_tracker = {}\n",
        "target_y_tracker = {}\n",
        "loss_tracker = {}\n",
        "\n",
        "for rolling_window_length, forecast_window in list(itertools.product(rolling_options, forecast_options)):\n",
        "    target_y = []\n",
        "    predictions = []\n",
        "    with trange(overall_x.shape[1] - rolling_window_length - 2 * forecast_window - 1, desc=\"Training variable-day rolling BERTweet Neural Network\") as main_bar:\n",
        "        # main_bar.set_postfix(rolling_window_length=rolling_window_length, forecast_window=forecast_window)\n",
        "        for start_idx in main_bar:\n",
        "            reset_model()\n",
        "            curr_x = overall_x[:, start_idx: start_idx + rolling_window_length]\n",
        "            curr_y = overall_y[start_idx + forecast_window: start_idx + forecast_window + rolling_window_length]\n",
        "            # with trange(num_epochs, desc=\"Training Multi-variable Linear Regression\") as progress_bar:\n",
        "                # for _ in progress_bar:\n",
        "            for _ in range(num_epochs):\n",
        "                max_num = max(curr_y)\n",
        "                optimizer.zero_grad()\n",
        "                y_pred = mlr_model(curr_x)\n",
        "                curr_loss = loss(y_pred, curr_y)\n",
        "                curr_loss.backward()\n",
        "                optimizer.step()\n",
        "                # progress_bar.set_postfix(loss=curr_loss.data)\n",
        "                # print(f\"Epoch: {curr_epoch}, Loss: {curr_loss}\")\n",
        "            curr_pred = predict(overall_x[:, start_idx + rolling_window_length + forecast_window: start_idx + rolling_window_length + forecast_window + 1])\n",
        "            predictions.append(curr_pred[0])\n",
        "            target_y.append(overall_y[start_idx + 2 * forecast_window + rolling_window_length: start_idx + 2 * forecast_window + rolling_window_length + 1])\n",
        "            overall_loss = loss(torch.tensor(predictions), torch.tensor(target_y))\n",
        "            main_bar.set_postfix(loss=overall_loss, rolling_window_length=rolling_window_length, forecast_window=forecast_window)\n",
        "    prediction_tracker[(rolling_window_length, forecast_window)] = predictions\n",
        "    target_y_tracker[(rolling_window_length, forecast_window)] = target_y\n",
        "    loss_tracker[(rolling_window_length, forecast_window)] = overall_loss\n"
      ],
      "execution_count": 46,
      "outputs": [
        {
          "output_type": "stream",
          "name": "stderr",
          "text": [
            "Training variable-day rolling BERTweet Neural Network: 100%|██████████| 146/146 [00:02<00:00, 59.11it/s, forecast_window=7, loss=tensor(25638.7430, dtype=torch.float64), rolling_window_length=7]\n",
            "Training variable-day rolling BERTweet Neural Network: 100%|██████████| 139/139 [00:02<00:00, 58.69it/s, forecast_window=7, loss=tensor(27250.5007, dtype=torch.float64), rolling_window_length=14]\n",
            "Training variable-day rolling BERTweet Neural Network: 100%|██████████| 132/132 [00:02<00:00, 56.57it/s, forecast_window=7, loss=tensor(29189.2610, dtype=torch.float64), rolling_window_length=21]\n",
            "Training variable-day rolling BERTweet Neural Network: 100%|██████████| 125/125 [00:02<00:00, 54.67it/s, forecast_window=7, loss=tensor(30958.1530, dtype=torch.float64), rolling_window_length=28]\n"
          ]
        }
      ]
    },
    {
      "cell_type": "code",
      "metadata": {
        "id": "LM-b7pkLJaVa",
        "colab": {
          "base_uri": "https://localhost:8080/",
          "height": 282
        },
        "outputId": "d4ea6e5b-a629-4fe4-a1a6-1115d624d8d7"
      },
      "source": [
        "qualifying_entry = (7, 7)\n",
        "predictions = prediction_tracker[qualifying_entry]\n",
        "target_y = target_y_tracker[qualifying_entry]\n",
        "\n",
        "show_model_performance(torch.tensor(predictions), torch.tensor(target_y), \"TweetCaster Predictions\")"
      ],
      "execution_count": 47,
      "outputs": [
        {
          "output_type": "stream",
          "name": "stdout",
          "text": [
            "(146,)\n"
          ]
        },
        {
          "output_type": "display_data",
          "data": {
            "image/png": "[encoded data removed]",
            "text/plain": [
              "<Figure size 432x288 with 1 Axes>"
            ]
          },
          "metadata": {
            "needs_background": "light"
          }
        }
      ]
    },
    {
      "cell_type": "code",
      "metadata": {
        "id": "8W1dll94JcpX",
        "colab": {
          "base_uri": "https://localhost:8080/",
          "height": 283
        },
        "outputId": "711812bf-df58-4956-c9f5-211f0371332a"
      },
      "source": [
        "rolling_mean = covid_df['new_cases'].rolling(window=14).mean()\n",
        "pred_df = pd.DataFrame(predictions).rolling(window=7).mean()\n",
        "target_df = pd.DataFrame(target_y).rolling(window=7).mean()\n",
        "pred_moving_avg_values = torch.tensor(pred_df.values)\n",
        "target_moving_avg_values = torch.tensor(target_df.values)\n",
        "show_model_performance(pred_moving_avg_values, target_moving_avg_values, \"TweetCaster Predictions\")"
      ],
      "execution_count": 48,
      "outputs": [
        {
          "output_type": "stream",
          "name": "stdout",
          "text": [
            "(146,)\n"
          ]
        },
        {
          "output_type": "display_data",
          "data": {
            "image/png": "[encoded data removed]",
            "text/plain": [
              "<Figure size 432x288 with 1 Axes>"
            ]
          },
          "metadata": {
            "needs_background": "light"
          }
        }
      ]
    }
  ]
}